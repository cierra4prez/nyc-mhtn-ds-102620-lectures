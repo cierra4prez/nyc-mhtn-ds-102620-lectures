{
 "cells": [
  {
   "cell_type": "code",
   "execution_count": null,
   "metadata": {},
   "outputs": [],
   "source": []
  },
  {
   "cell_type": "code",
   "execution_count": null,
   "metadata": {},
   "outputs": [],
   "source": [
    "# FLOORS x SQFT_LIVING\n",
    "df['floors_x_sqft_living'] = df['floors']*df['sqft_living']"
   ]
  },
  {
   "cell_type": "code",
   "execution_count": null,
   "metadata": {},
   "outputs": [],
   "source": [
    "#BATHROOMS\n",
    "df['bathrooms'] = np.where(df.bathrooms>6, 6, df['bathrooms'])"
   ]
  },
  {
   "cell_type": "code",
   "execution_count": null,
   "metadata": {},
   "outputs": [],
   "source": []
  },
  {
   "cell_type": "code",
   "execution_count": null,
   "metadata": {},
   "outputs": [],
   "source": []
  },
  {
   "cell_type": "code",
   "execution_count": null,
   "metadata": {},
   "outputs": [],
   "source": []
  },
  {
   "cell_type": "markdown",
   "metadata": {},
   "source": [
    "run below plot for dummy variables after creation"
   ]
  },
  {
   "cell_type": "code",
   "execution_count": null,
   "metadata": {},
   "outputs": [],
   "source": [
    "# # Bar plots of categorical data\n",
    "# #zipcode explored later\n",
    "# fig, axes = plt.subplots(nrows=1, ncols=6, figsize=(15,10))\n",
    "\n",
    "# categoricals = ['condition', 'floors', 'grade', 'month_sold', 'yr_sold', 'view']\n",
    "\n",
    "# for col, ax in zip(categoricals, axes.flatten()):\n",
    "#     (df.groupby(col)               # group values together by column of interest\n",
    "#          .mean()['price']        # take the mean of the saleprice for each group\n",
    "#          .plot\n",
    "#          .bar(ax=ax))                # create a bar graph on the ax    \n",
    "#     ax.set_title(col)                # Make the title the name of the column\n",
    "# fig.tight_layout()"
   ]
  }
 ],
 "metadata": {
  "kernelspec": {
   "display_name": "Python 3",
   "language": "python",
   "name": "python3"
  },
  "language_info": {
   "codemirror_mode": {
    "name": "ipython",
    "version": 3
   },
   "file_extension": ".py",
   "mimetype": "text/x-python",
   "name": "python",
   "nbconvert_exporter": "python",
   "pygments_lexer": "ipython3",
   "version": "3.6.9"
  }
 },
 "nbformat": 4,
 "nbformat_minor": 4
}
