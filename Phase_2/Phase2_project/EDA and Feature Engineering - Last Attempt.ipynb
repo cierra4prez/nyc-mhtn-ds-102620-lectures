{
 "cells": [
  {
   "cell_type": "markdown",
   "metadata": {},
   "source": [
    "# Kings County Housing Prices Bakeoff\n",
    "\n",
    "Below are a list of steps that you should take while trying to complete your bake-off entry."
   ]
  },
  {
   "cell_type": "markdown",
   "metadata": {},
   "source": [
    "# Step 1: Read in Data"
   ]
  },
  {
   "cell_type": "code",
   "execution_count": 1,
   "metadata": {},
   "outputs": [],
   "source": [
    "import pandas as pd\n",
    "pd.set_option('display.max_columns', 100)\n",
    "pd.set_option('display.max_columns', 200)\n",
    "pd.set_option('display.float_format', '{:.2f}'.format)\n",
    "import warnings\n",
    "warnings.filterwarnings('ignore')\n",
    "\n",
    "import seaborn as sns\n",
    "import matplotlib.pyplot as plt\n",
    "\n",
    "import numpy as np\n",
    "from statsmodels.formula.api import ols\n",
    "\n",
    "from sklearn import linear_model\n",
    "from sklearn import metrics\n",
    "from sklearn.linear_model import LinearRegression\n",
    "from sklearn.preprocessing import StandardScaler\n",
    "from sklearn.preprocessing import PolynomialFeatures\n",
    "from sklearn.model_selection import train_test_split\n",
    "from sklearn.feature_selection import SelectKBest, f_regression,mutual_info_regression\n",
    "\n",
    "\n",
    "df = pd.read_csv('Resources/kc_house_data_train.csv', index_col=0)\n",
    "df = df.drop(['id'], axis=1)"
   ]
  },
  {
   "cell_type": "code",
   "execution_count": 2,
   "metadata": {},
   "outputs": [],
   "source": [
    "#adjusting bedrooms outliers \n",
    "df['bedrooms'] = df['bedrooms'].apply(lambda x : 9 if x > 9 else x)\n",
    "#np.where(df['my_channel'] > 20000, 0, df['my_channel'])"
   ]
  },
  {
   "cell_type": "code",
   "execution_count": 3,
   "metadata": {
    "scrolled": true
   },
   "outputs": [],
   "source": [
    "# #create a heatmap to visualize the correlations\n",
    "# fig, ax = plt.subplots(figsize=(25,15)) # figsize to make larger\n",
    "# corr = df.corr()\n",
    "\n",
    "# # Generate a mask for the upper triangle\n",
    "# mask = np.zeros_like(corr, dtype=np.bool)\n",
    "# mask[np.triu_indices_from(mask)] = True\n",
    "\n",
    "# sns.heatmap(corr, mask=mask, cmap='bwr', center=0, annot=True)\n",
    "\n",
    "# # fix for matplotlib bug that cuts off top/bottom of seaborn viz\n",
    "# b, t = plt.ylim() # discover the values for bottom and top\n",
    "# b += 0.5 # Add 0.5 to the bottom\n",
    "# t -= 0.5 # Subtract 0.5 from the top\n",
    "# plt.ylim(b, t) # update the ylim(bottom, top) values\n",
    "\n",
    "# plt.show()"
   ]
  },
  {
   "cell_type": "markdown",
   "metadata": {},
   "source": [
    "# Step 2: EDA\n",
    "### Initial Findings and planning\n",
    "- **highest correlations:** 'bathrooms', 'sqft_living', 'grade', 'sqft_above', 'sqft_living15' (check for outliers and extreme values)\n",
    "    - sqft_living seems like a better predictor\n",
    "- **suprisingly low correlations:** 'bedrooms', 'waterfront', 'view', 'condition', 'renovated_0' (manipulate to create higher correlations)\n",
    "- check out for outliers in price by sqft\n",
    "- 33 bedrooms outlier\n",
    "- bin `condition` into 3 categories: 1/2, 3/4, and 5\n",
    "- bin `view` into 3 categories: 0, 1&2, 3, 4 (create poly?)\n",
    "- `grade` poly?\n",
    "- dummy code zip codes\n",
    "- check out distances from Seattle city center with `lat` and `long`\n",
    "- viz for floors\n",
    "- waterfront: t-test"
   ]
  },
  {
   "cell_type": "code",
   "execution_count": 4,
   "metadata": {},
   "outputs": [
    {
     "data": {
      "text/html": [
       "<div>\n",
       "<style scoped>\n",
       "    .dataframe tbody tr th:only-of-type {\n",
       "        vertical-align: middle;\n",
       "    }\n",
       "\n",
       "    .dataframe tbody tr th {\n",
       "        vertical-align: top;\n",
       "    }\n",
       "\n",
       "    .dataframe thead th {\n",
       "        text-align: right;\n",
       "    }\n",
       "</style>\n",
       "<table border=\"1\" class=\"dataframe\">\n",
       "  <thead>\n",
       "    <tr style=\"text-align: right;\">\n",
       "      <th></th>\n",
       "      <th>date</th>\n",
       "      <th>price</th>\n",
       "      <th>bedrooms</th>\n",
       "      <th>bathrooms</th>\n",
       "      <th>sqft_living</th>\n",
       "      <th>sqft_lot</th>\n",
       "      <th>floors</th>\n",
       "      <th>waterfront</th>\n",
       "      <th>view</th>\n",
       "      <th>condition</th>\n",
       "      <th>grade</th>\n",
       "      <th>sqft_above</th>\n",
       "      <th>sqft_basement</th>\n",
       "      <th>yr_built</th>\n",
       "      <th>yr_renovated</th>\n",
       "      <th>zipcode</th>\n",
       "      <th>lat</th>\n",
       "      <th>long</th>\n",
       "      <th>sqft_living15</th>\n",
       "      <th>sqft_lot15</th>\n",
       "    </tr>\n",
       "  </thead>\n",
       "  <tbody>\n",
       "    <tr>\n",
       "      <th>0</th>\n",
       "      <td>20141006T000000</td>\n",
       "      <td>365000.00</td>\n",
       "      <td>4</td>\n",
       "      <td>2.25</td>\n",
       "      <td>2070</td>\n",
       "      <td>8893</td>\n",
       "      <td>2.00</td>\n",
       "      <td>0</td>\n",
       "      <td>0</td>\n",
       "      <td>4</td>\n",
       "      <td>8</td>\n",
       "      <td>2070</td>\n",
       "      <td>0</td>\n",
       "      <td>1986</td>\n",
       "      <td>0</td>\n",
       "      <td>98058</td>\n",
       "      <td>47.44</td>\n",
       "      <td>-122.16</td>\n",
       "      <td>2390</td>\n",
       "      <td>7700</td>\n",
       "    </tr>\n",
       "    <tr>\n",
       "      <th>1</th>\n",
       "      <td>20140821T000000</td>\n",
       "      <td>865000.00</td>\n",
       "      <td>5</td>\n",
       "      <td>3.00</td>\n",
       "      <td>2900</td>\n",
       "      <td>6730</td>\n",
       "      <td>1.00</td>\n",
       "      <td>0</td>\n",
       "      <td>0</td>\n",
       "      <td>5</td>\n",
       "      <td>8</td>\n",
       "      <td>1830</td>\n",
       "      <td>1070</td>\n",
       "      <td>1977</td>\n",
       "      <td>0</td>\n",
       "      <td>98115</td>\n",
       "      <td>47.68</td>\n",
       "      <td>-122.28</td>\n",
       "      <td>2370</td>\n",
       "      <td>6283</td>\n",
       "    </tr>\n",
       "    <tr>\n",
       "      <th>2</th>\n",
       "      <td>20140815T000000</td>\n",
       "      <td>1038000.00</td>\n",
       "      <td>4</td>\n",
       "      <td>2.50</td>\n",
       "      <td>3770</td>\n",
       "      <td>10893</td>\n",
       "      <td>2.00</td>\n",
       "      <td>0</td>\n",
       "      <td>2</td>\n",
       "      <td>3</td>\n",
       "      <td>11</td>\n",
       "      <td>3770</td>\n",
       "      <td>0</td>\n",
       "      <td>1997</td>\n",
       "      <td>0</td>\n",
       "      <td>98006</td>\n",
       "      <td>47.56</td>\n",
       "      <td>-122.13</td>\n",
       "      <td>3710</td>\n",
       "      <td>9685</td>\n",
       "    </tr>\n",
       "    <tr>\n",
       "      <th>3</th>\n",
       "      <td>20150331T000000</td>\n",
       "      <td>1490000.00</td>\n",
       "      <td>3</td>\n",
       "      <td>3.50</td>\n",
       "      <td>4560</td>\n",
       "      <td>14608</td>\n",
       "      <td>2.00</td>\n",
       "      <td>0</td>\n",
       "      <td>2</td>\n",
       "      <td>3</td>\n",
       "      <td>12</td>\n",
       "      <td>4560</td>\n",
       "      <td>0</td>\n",
       "      <td>1990</td>\n",
       "      <td>0</td>\n",
       "      <td>98034</td>\n",
       "      <td>47.70</td>\n",
       "      <td>-122.23</td>\n",
       "      <td>4050</td>\n",
       "      <td>14226</td>\n",
       "    </tr>\n",
       "    <tr>\n",
       "      <th>4</th>\n",
       "      <td>20140714T000000</td>\n",
       "      <td>711000.00</td>\n",
       "      <td>3</td>\n",
       "      <td>2.50</td>\n",
       "      <td>2550</td>\n",
       "      <td>5376</td>\n",
       "      <td>2.00</td>\n",
       "      <td>0</td>\n",
       "      <td>0</td>\n",
       "      <td>3</td>\n",
       "      <td>9</td>\n",
       "      <td>2550</td>\n",
       "      <td>0</td>\n",
       "      <td>2004</td>\n",
       "      <td>0</td>\n",
       "      <td>98052</td>\n",
       "      <td>47.66</td>\n",
       "      <td>-122.08</td>\n",
       "      <td>2250</td>\n",
       "      <td>4050</td>\n",
       "    </tr>\n",
       "  </tbody>\n",
       "</table>\n",
       "</div>"
      ],
      "text/plain": [
       "              date      price  bedrooms  bathrooms  sqft_living  sqft_lot  \\\n",
       "0  20141006T000000  365000.00         4       2.25         2070      8893   \n",
       "1  20140821T000000  865000.00         5       3.00         2900      6730   \n",
       "2  20140815T000000 1038000.00         4       2.50         3770     10893   \n",
       "3  20150331T000000 1490000.00         3       3.50         4560     14608   \n",
       "4  20140714T000000  711000.00         3       2.50         2550      5376   \n",
       "\n",
       "   floors  waterfront  view  condition  grade  sqft_above  sqft_basement  \\\n",
       "0    2.00           0     0          4      8        2070              0   \n",
       "1    1.00           0     0          5      8        1830           1070   \n",
       "2    2.00           0     2          3     11        3770              0   \n",
       "3    2.00           0     2          3     12        4560              0   \n",
       "4    2.00           0     0          3      9        2550              0   \n",
       "\n",
       "   yr_built  yr_renovated  zipcode   lat    long  sqft_living15  sqft_lot15  \n",
       "0      1986             0    98058 47.44 -122.16           2390        7700  \n",
       "1      1977             0    98115 47.68 -122.28           2370        6283  \n",
       "2      1997             0    98006 47.56 -122.13           3710        9685  \n",
       "3      1990             0    98034 47.70 -122.23           4050       14226  \n",
       "4      2004             0    98052 47.66 -122.08           2250        4050  "
      ]
     },
     "execution_count": 4,
     "metadata": {},
     "output_type": "execute_result"
    }
   ],
   "source": [
    "df.head()"
   ]
  },
  {
   "cell_type": "code",
   "execution_count": 5,
   "metadata": {},
   "outputs": [],
   "source": [
    "#changing date format workable month\n",
    "df['month_sold'] = pd.to_datetime(df['date'].str.slice(0,8), format='%Y%m%d', errors='ignore').dt.month\n",
    "df.drop('date',axis=1,inplace=True)\n"
   ]
  },
  {
   "cell_type": "code",
   "execution_count": 6,
   "metadata": {
    "scrolled": true
   },
   "outputs": [],
   "source": [
    "# sns.pairplot(df[['bathrooms', 'bedrooms', 'lat', 'long', 'month_sold', 'sqft_above', 'sqft_basement', 'sqft_living', 'grade', 'sqft_living15', 'sqft_lot', 'sqft_lot15', 'yr_built', 'yr_renovated', 'price']], corner=True)\n"
   ]
  },
  {
   "cell_type": "code",
   "execution_count": 7,
   "metadata": {},
   "outputs": [],
   "source": [
    "# # Bar plots of categorical data\n",
    "# #zipcode explored later\n",
    "# fig, axes = plt.subplots(nrows=1, ncols=6, figsize=(15,10))\n",
    "\n",
    "# categoricals = ['condition', 'floors', 'grade', 'month_sold', 'yr_sold', 'view']\n",
    "\n",
    "# for col, ax in zip(categoricals, axes.flatten()):\n",
    "#     (df.groupby(col)               # group values together by column of interest\n",
    "#          .mean()['price']        # take the mean of the saleprice for each group\n",
    "#          .plot\n",
    "#          .bar(ax=ax))                # create a bar graph on the ax    \n",
    "#     ax.set_title(col)                # Make the title the name of the column\n",
    "# fig.tight_layout()"
   ]
  },
  {
   "cell_type": "markdown",
   "metadata": {},
   "source": [
    "# Investigation"
   ]
  },
  {
   "cell_type": "markdown",
   "metadata": {},
   "source": [
    "## Floors\n",
    "create dummy columns"
   ]
  },
  {
   "cell_type": "code",
   "execution_count": 8,
   "metadata": {
    "scrolled": true
   },
   "outputs": [
    {
     "data": {
      "text/plain": [
       "Text(0.5, 0, 'Floors')"
      ]
     },
     "execution_count": 8,
     "metadata": {},
     "output_type": "execute_result"
    },
    {
     "data": {
      "image/png": "[encoded data removed]",
      "text/plain": [
       "<Figure size 432x288 with 1 Axes>"
      ]
     },
     "metadata": {
      "needs_background": "light"
     },
     "output_type": "display_data"
    }
   ],
   "source": [
    "#Barplot Price v number of floors\n",
    "df.groupby('floors')['price'].mean().plot(kind='bar')\n",
    "\n",
    "#Set labels\n",
    "plt.title('Average Selling Price\\nBased on number of floors', size=12)\n",
    "plt.ylabel('Price')\n",
    "plt.xlabel('Floors')"
   ]
  },
  {
   "cell_type": "code",
   "execution_count": 9,
   "metadata": {},
   "outputs": [],
   "source": [
    "df['floors_x_sqft_living'] = df['floors']*df['sqft_living']\n"
   ]
  },
  {
   "cell_type": "markdown",
   "metadata": {},
   "source": [
    "### Checking for outliers in strongly correlated variables\n",
    "- cap square foot living\n",
    "- Checking for outliers and trends in grade, bathrooms, sqft_living, sqft_above, sqft_living15"
   ]
  },
  {
   "cell_type": "code",
   "execution_count": 10,
   "metadata": {
    "scrolled": true
   },
   "outputs": [
    {
     "data": {
      "image/png": "[encoded data removed]",
      "text/plain": [
       "<Figure size 1440x360 with 4 Axes>"
      ]
     },
     "metadata": {
      "needs_background": "light"
     },
     "output_type": "display_data"
    }
   ],
   "source": [
    "plt.figure(figsize=(20,5))\n",
    "\n",
    "# ax3 = plt.subplot(1, 5, 1)\n",
    "# plt.boxplot(df.grade)\n",
    "# ax3.set_title('grade')\n",
    "\n",
    "ax1 = plt.subplot(1, 5, 2)\n",
    "plt.boxplot(df.bathrooms)\n",
    "ax1.set_title('bathrooms')\n",
    "\n",
    "ax2 = plt.subplot(1, 5, 3)\n",
    "plt.boxplot(df.sqft_living)\n",
    "ax2.set_title('sqft_living')\n",
    "\n",
    "\n",
    "ax3 = plt.subplot(1, 5, 4)\n",
    "plt.boxplot(df.sqft_above)\n",
    "ax3.set_title('sqft_above')\n",
    "\n",
    "ax3 = plt.subplot(1, 5, 5)\n",
    "plt.boxplot(df.sqft_living15)\n",
    "ax3.set_title('sqft_living15')\n",
    "\n",
    "plt.show()"
   ]
  },
  {
   "cell_type": "markdown",
   "metadata": {},
   "source": [
    "### 1. Bathrooms"
   ]
  },
  {
   "cell_type": "code",
   "execution_count": 11,
   "metadata": {},
   "outputs": [],
   "source": [
    "#Run model without this parameter first\n",
    "df['bathrooms'] = np.where(df.bathrooms>6, 6, df['bathrooms'])"
   ]
  },
  {
   "cell_type": "code",
   "execution_count": 12,
   "metadata": {},
   "outputs": [
    {
     "data": {
      "text/plain": [
       "Text(0.5, 0, 'Bathrooms')"
      ]
     },
     "execution_count": 12,
     "metadata": {},
     "output_type": "execute_result"
    },
    {
     "data": {
      "image/png": "[encoded data removed]",
      "text/plain": [
       "<Figure size 1440x720 with 1 Axes>"
      ]
     },
     "metadata": {
      "needs_background": "light"
     },
     "output_type": "display_data"
    }
   ],
   "source": [
    "plt.figure(figsize=(20,10))\n",
    "ax = sns.boxplot(x=df['bathrooms'], y=df['price'], data=df)\n",
    " \n",
    "# Calculate number of obs per group & median to position labels\n",
    "medians = df.groupby(['bathrooms'])['price'].median().values\n",
    "nobs = df['bathrooms'].value_counts().values\n",
    "nobs = [str(x) for x in nobs.tolist()]\n",
    "nobs = [\"n: \" + i for i in nobs]\n",
    " \n",
    "# Add it to the plot\n",
    "pos = range(len(nobs))\n",
    "for tick,label in zip(pos,ax.get_xticklabels()):\n",
    "    ax.text(pos[tick], medians[tick] + 0.03, nobs[tick],\n",
    "horizontalalignment='center', size='small', color='w', weight='semibold')\n",
    "    \n",
    "plt.title('Selling Price Based on Number of Bathrooms', size=20)\n",
    "plt.ylabel('Price', size=15)\n",
    "plt.xlabel('Bathrooms', size=15)"
   ]
  },
  {
   "cell_type": "markdown",
   "metadata": {
    "heading_collapsed": true
   },
   "source": [
    "### 2. Grade - Construction Rating"
   ]
  },
  {
   "cell_type": "code",
   "execution_count": 13,
   "metadata": {
    "hidden": true
   },
   "outputs": [
    {
     "data": {
      "text/plain": [
       "Text(0.5, 0, 'Grade')"
      ]
     },
     "execution_count": 13,
     "metadata": {},
     "output_type": "execute_result"
    },
    {
     "data": {
      "image/png": "[encoded data removed]",
      "text/plain": [
       "<Figure size 720x576 with 1 Axes>"
      ]
     },
     "metadata": {
      "needs_background": "light"
     },
     "output_type": "display_data"
    }
   ],
   "source": [
    "plt.figure(figsize=(10,8))\n",
    "ax = sns.boxplot(x=df['grade'], y=df['price'], data=df)\n",
    " \n",
    "# Calculate number of obs per group & median to position labels\n",
    "medians = df.groupby(['grade'])['price'].median().values\n",
    "nobs = df['grade'].value_counts().values\n",
    "nobs = [str(x) for x in nobs.tolist()]\n",
    "nobs = [\"n: \" + i for i in nobs]\n",
    " \n",
    "# Add it to the plot\n",
    "pos = range(len(nobs))\n",
    "for tick,label in zip(pos,ax.get_xticklabels()):\n",
    "    ax.text(pos[tick], medians[tick] + 0.03, nobs[tick],\n",
    "horizontalalignment='center', size='small', color='w', weight='semibold')\n",
    "    \n",
    "plt.title('Selling Price Based on Construction Grade', size=20)\n",
    "plt.ylabel('Price', size=15)\n",
    "plt.xlabel('Grade', size=15)"
   ]
  },
  {
   "cell_type": "markdown",
   "metadata": {},
   "source": [
    "### 3. Square Foot Living"
   ]
  },
  {
   "cell_type": "code",
   "execution_count": 14,
   "metadata": {},
   "outputs": [
    {
     "data": {
      "text/plain": [
       "[<matplotlib.lines.Line2D at 0x7f871d1ec208>]"
      ]
     },
     "execution_count": 14,
     "metadata": {},
     "output_type": "execute_result"
    },
    {
     "data": {
      "image/png": "[encoded data removed]",
      "text/plain": [
       "<Figure size 720x432 with 1 Axes>"
      ]
     },
     "metadata": {
      "needs_background": "light"
     },
     "output_type": "display_data"
    }
   ],
   "source": [
    "plt.subplots(figsize = (10,6))\n",
    "ax = sns.scatterplot(x=\"sqft_living\", y=\"price\", data=df, color = 'blue')\n",
    "ax.set(xlabel=\"sqft_living\", ylabel = \"Price\", title=\"Relationship Between Interior Square Footage and Price\")\n",
    "x=df[\"sqft_living\"]\n",
    "y=df[\"price\"]\n",
    "m, b = np.polyfit(x, y, 1)\n",
    "plt.plot(x, m*x + b, color = 'orange')"
   ]
  },
  {
   "cell_type": "code",
   "execution_count": 15,
   "metadata": {},
   "outputs": [
    {
     "data": {
      "text/plain": [
       "546259.6598772238"
      ]
     },
     "execution_count": 15,
     "metadata": {},
     "output_type": "execute_result"
    }
   ],
   "source": [
    "above_6std = df.price.mean()+(6*df.sqft_living.std())\n",
    "above_6std"
   ]
  },
  {
   "cell_type": "code",
   "execution_count": 16,
   "metadata": {},
   "outputs": [
    {
     "data": {
      "text/plain": [
       "545715.1392829734"
      ]
     },
     "execution_count": 16,
     "metadata": {},
     "output_type": "execute_result"
    }
   ],
   "source": [
    "above_6std = df.price.mean()+(6*df.sqft_above.std())\n",
    "above_6std"
   ]
  },
  {
   "cell_type": "markdown",
   "metadata": {},
   "source": [
    "## Suprisingly weak correlations\n",
    "- 'bedrooms', 'waterfront', 'view', 'condition', ('renovated_0' for later)"
   ]
  },
  {
   "cell_type": "code",
   "execution_count": 17,
   "metadata": {
    "scrolled": true
   },
   "outputs": [],
   "source": [
    "# sns.pairplot(df[['bathrooms', 'sqft_living', 'grade', 'sqft_living15', 'price']], corner=True)\n",
    "# plt.show()"
   ]
  },
  {
   "cell_type": "markdown",
   "metadata": {},
   "source": [
    "## Bedrooms\n",
    "poly3, cat, or normal?"
   ]
  },
  {
   "cell_type": "code",
   "execution_count": 18,
   "metadata": {
    "scrolled": false
   },
   "outputs": [
    {
     "data": {
      "text/plain": [
       "Text(0.5, 0, 'Bedrooms')"
      ]
     },
     "execution_count": 18,
     "metadata": {},
     "output_type": "execute_result"
    },
    {
     "data": {
      "image/png": "[encoded data removed]",
      "text/plain": [
       "<Figure size 432x288 with 1 Axes>"
      ]
     },
     "metadata": {
      "needs_background": "light"
     },
     "output_type": "display_data"
    }
   ],
   "source": [
    "#Barplot Price v number of floors\n",
    "df.groupby('bedrooms')['price'].mean().plot(kind='bar')\n",
    "\n",
    "#Set labels\n",
    "plt.title('Average Selling Price\\nBased on number of Bedrooms', size=12)\n",
    "plt.ylabel('Price')\n",
    "plt.xlabel('Bedrooms')"
   ]
  },
  {
   "cell_type": "code",
   "execution_count": 19,
   "metadata": {
    "scrolled": true
   },
   "outputs": [
    {
     "data": {
      "image/png": "[encoded data removed]",
      "text/plain": [
       "<Figure size 1440x720 with 1 Axes>"
      ]
     },
     "metadata": {
      "needs_background": "light"
     },
     "output_type": "display_data"
    }
   ],
   "source": [
    "plt.figure(figsize=(20,10))\n",
    "ax = sns.boxplot(x=df['bedrooms'], y=df['price'], data=df)\n",
    " \n",
    "# Calculate number of obs per group & median to position labels\n",
    "medians = df.groupby(['bedrooms'])['price'].median().values\n",
    "nobs = df['bedrooms'].value_counts().values\n",
    "nobs = [str(x) for x in nobs.tolist()]\n",
    "nobs = [\"n: \" + i for i in nobs]\n",
    " \n",
    "# Add it to the plot\n",
    "pos = range(len(nobs))\n",
    "for tick,label in zip(pos,ax.get_xticklabels()):\n",
    "    ax.text(pos[tick], medians[tick] + 0.03, nobs[tick],\n",
    "horizontalalignment='center', size='small', color='w', weight='semibold')\n",
    "    \n",
    "plt.title('Selling Price Based on Number of Bedrooms', size=20)\n",
    "plt.ylabel('Price', size=15)\n",
    "plt.xlabel('Bedrooms', size=15)\n",
    "\n",
    "plt.show()"
   ]
  },
  {
   "cell_type": "markdown",
   "metadata": {},
   "source": [
    "## Waterfront"
   ]
  },
  {
   "cell_type": "code",
   "execution_count": 20,
   "metadata": {
    "scrolled": true
   },
   "outputs": [
    {
     "data": {
      "text/plain": [
       "Text(0.5, 0, 'Waterfront Property')"
      ]
     },
     "execution_count": 20,
     "metadata": {},
     "output_type": "execute_result"
    },
    {
     "data": {
      "image/png": "[encoded data removed]",
      "text/plain": [
       "<Figure size 216x360 with 1 Axes>"
      ]
     },
     "metadata": {
      "needs_background": "light"
     },
     "output_type": "display_data"
    }
   ],
   "source": [
    "## Boxplot of Waterfront v. Price\n",
    "plt.figure(figsize=(3,5))\n",
    "ax = sns.boxplot(x=df['waterfront'], y=df['price'], data=df)\n",
    " \n",
    "# Calculate number of obs per group & median to position labels\n",
    "medians = df.groupby(['waterfront'])['price'].median().values\n",
    "nobs = df['waterfront'].value_counts().values\n",
    "nobs = [str(x) for x in nobs.tolist()]\n",
    "nobs = [\"n: \" + i for i in nobs]\n",
    " \n",
    "# Add it to the plot\n",
    "pos = range(len(nobs))\n",
    "for tick,label in zip(pos,ax.get_xticklabels()):\n",
    "    ax.text(pos[tick], medians[tick] + 0.03, nobs[tick],\n",
    "horizontalalignment='center', size='small', color='w', weight='semibold')\n",
    "    \n",
    "plt.title('Price Based on Waterfront Property')\n",
    "plt.ylabel('Price')\n",
    "plt.xlabel('Waterfront Property')"
   ]
  },
  {
   "cell_type": "markdown",
   "metadata": {},
   "source": [
    "## View"
   ]
  },
  {
   "cell_type": "code",
   "execution_count": 21,
   "metadata": {
    "scrolled": true
   },
   "outputs": [
    {
     "data": {
      "text/plain": [
       "Text(0.5, 0, 'View')"
      ]
     },
     "execution_count": 21,
     "metadata": {},
     "output_type": "execute_result"
    },
    {
     "data": {
      "image/png": "[encoded data removed]",
      "text/plain": [
       "<Figure size 432x288 with 1 Axes>"
      ]
     },
     "metadata": {
      "needs_background": "light"
     },
     "output_type": "display_data"
    }
   ],
   "source": [
    "#Barplot Price v number of floors\n",
    "df.groupby('view')['price'].mean().plot(kind='bar')\n",
    "\n",
    "#Set labels\n",
    "plt.title('Average Selling Price\\nBased on View', size=12)\n",
    "plt.ylabel('Price')\n",
    "plt.xlabel('View')"
   ]
  },
  {
   "cell_type": "markdown",
   "metadata": {},
   "source": [
    "## Condition\n",
    "Create dummy columns"
   ]
  },
  {
   "cell_type": "code",
   "execution_count": 22,
   "metadata": {},
   "outputs": [
    {
     "data": {
      "text/plain": [
       "Text(0.5, 0, 'Condition')"
      ]
     },
     "execution_count": 22,
     "metadata": {},
     "output_type": "execute_result"
    },
    {
     "data": {
      "image/png": "[encoded data removed]",
      "text/plain": [
       "<Figure size 432x288 with 1 Axes>"
      ]
     },
     "metadata": {
      "needs_background": "light"
     },
     "output_type": "display_data"
    }
   ],
   "source": [
    "#Barplot Price v number of floors\n",
    "df.groupby('condition')['price'].mean().plot(kind='bar')\n",
    "\n",
    "#Set labels\n",
    "plt.title('Average Selling Price\\nBased on Condition', size=12)\n",
    "plt.ylabel('Price')\n",
    "plt.xlabel('Condition')"
   ]
  },
  {
   "cell_type": "markdown",
   "metadata": {},
   "source": [
    "# Step 3: Clean\n",
    "- already took care of bedroom outliers with Read-In\n",
    "- reining in square footage outliers\n",
    "- work on binning \n",
    "    - `condition` into 3 categories: 1/2, 3/4, and 5\n",
    "    - `view` into 3 categories: 0, 1&2, 3, 4 (or create poly?)"
   ]
  },
  {
   "cell_type": "code",
   "execution_count": 23,
   "metadata": {
    "scrolled": true
   },
   "outputs": [
    {
     "data": {
      "image/png": "[encoded data removed]",
      "text/plain": [
       "<Figure size 1728x360 with 5 Axes>"
      ]
     },
     "metadata": {
      "needs_background": "light"
     },
     "output_type": "display_data"
    }
   ],
   "source": [
    "# Investigating Square footage outliers\n",
    "\n",
    "plt.figure(figsize=(24,5))\n",
    "\n",
    "ax3 = plt.subplot(1, 5, 1)\n",
    "plt.boxplot(df.sqft_above)\n",
    "ax3.set_title('sqft_above')\n",
    "\n",
    "ax1 = plt.subplot(1, 5, 2)\n",
    "plt.boxplot(df.sqft_living)\n",
    "ax1.set_title('sqft_living')\n",
    "\n",
    "ax2 = plt.subplot(1, 5, 3)\n",
    "plt.boxplot(df.sqft_living15)\n",
    "ax2.set_title('sqft_living15')\n",
    "\n",
    "\n",
    "ax3 = plt.subplot(1, 5, 4)\n",
    "plt.boxplot(df.sqft_lot)\n",
    "ax3.set_title('sqft_lot')\n",
    "\n",
    "ax3 = plt.subplot(1, 5, 5)\n",
    "plt.boxplot(df.sqft_lot15)\n",
    "ax3.set_title('sqft_living15')\n",
    "\n",
    "plt.show()"
   ]
  },
  {
   "cell_type": "code",
   "execution_count": 24,
   "metadata": {
    "scrolled": true
   },
   "outputs": [],
   "source": [
    "# adjuting sqft home outliers to within 6 standard deviations of the mean\n",
    "for col in ['sqft_above', 'sqft_living', 'sqft_living15']: \n",
    "    above_6std = df[col].mean()+(6*df[col].std())\n",
    "    df[col] = np.where(df[col].values >above_6std, df[col].mean()+6*df[col].std(), df[col])\n",
    "    \n",
    "# adjusting lot outliers to within 9 standard deviations of the mean\n",
    "for col in ['sqft_lot', 'sqft_lot15']: \n",
    "    above_9std = df[col].mean()+(9*df[col].std())\n",
    "    df[col] = np.where(df[col].values >above_6std, df[col].mean()+9*df[col].std(), df[col])\n",
    "    "
   ]
  },
  {
   "cell_type": "markdown",
   "metadata": {},
   "source": [
    "# Try these to see if they improve model"
   ]
  },
  {
   "cell_type": "code",
   "execution_count": 25,
   "metadata": {},
   "outputs": [],
   "source": [
    "#Create dummy columns of 'condition' \n",
    "df = pd.get_dummies(df, columns=['condition'], drop_first=True)\n",
    "\n",
    "#Create dummy columns of 'floors'\n",
    "df = pd.get_dummies(df, columns=['floors'], drop_first=True)"
   ]
  },
  {
   "cell_type": "markdown",
   "metadata": {},
   "source": [
    "# Step 4: Generate new features that you think could be important.\n",
    "\n",
    "After doing this, you will want to go back to steps 2 and 3 to investigate these new features."
   ]
  },
  {
   "cell_type": "code",
   "execution_count": 26,
   "metadata": {},
   "outputs": [],
   "source": [
    "## RUN THIS CELL ONLY ONCE!\n",
    "\n",
    "#Create new column 'age' for age of house\n",
    "df['age'] = 2015 - df.yr_built\n",
    "\n",
    "#Create dummy variable 'basement' y/n\n",
    "df['basement'] = np.where(df['sqft_basement']>0 , 1, 0)\n",
    "df = pd.get_dummies(df, columns=['basement'], drop_first=True)\n",
    "\n",
    "#Create a new column 'neighbors_compared' with sqft_living - sqft_living15\n",
    "df['neighbors_compared'] = df.sqft_living - df.sqft_living15\n",
    "\n",
    "#Create dummy columns using 'nc_2'\n",
    "df['nc2'] = np.where(df['sqft_living']> df['sqft_living15'] , 1, 0)\n",
    "df = pd.get_dummies(df, columns=['nc2'], drop_first=True)\n"
   ]
  },
  {
   "cell_type": "markdown",
   "metadata": {},
   "source": [
    "Playing with `renovated` columns:"
   ]
  },
  {
   "cell_type": "code",
   "execution_count": 27,
   "metadata": {},
   "outputs": [],
   "source": [
    "#RUN CELL ONLY ONCE\n",
    "\n",
    "#Create new column 'last_renovted' for how long ago since last renovation\n",
    "df['last_ren'] = np.where(df['yr_renovated'] > 0, (2015 - df['yr_renovated']), 0)\n",
    "\n",
    "#Create new column 'last_ren2' for how long (years) since last renovation and including age if no renovation\n",
    "df['last_ren2'] = np.where(df['yr_renovated'] > 0, (2015 - df['yr_renovated']), (2015 - df['yr_built']))\n",
    "\n",
    "#Create dummy columns using 'renovated'\n",
    "df['renovated'] = np.where(df['yr_renovated']>0 , 1, 0)\n",
    "df = pd.get_dummies(df, columns=['renovated'], drop_first=True)"
   ]
  },
  {
   "cell_type": "markdown",
   "metadata": {},
   "source": [
    "#### Create dummy zip codes"
   ]
  },
  {
   "cell_type": "code",
   "execution_count": 28,
   "metadata": {},
   "outputs": [],
   "source": [
    "# Create dummy variables for zipcodes\n",
    "zip_dummies = pd.get_dummies(df['zipcode'].astype(str), drop_first=True)\n",
    "df.drop('zipcode',axis=1,inplace=True)"
   ]
  },
  {
   "cell_type": "markdown",
   "metadata": {},
   "source": [
    "## Checking on new features"
   ]
  },
  {
   "cell_type": "code",
   "execution_count": 29,
   "metadata": {},
   "outputs": [],
   "source": [
    "#Run below cell for correlation matrix"
   ]
  },
  {
   "cell_type": "code",
   "execution_count": 30,
   "metadata": {
    "scrolled": true
   },
   "outputs": [],
   "source": [
    "# # Correlation matrix\n",
    "# fig, ax = plt.subplots(figsize=(20, 15))\n",
    "\n",
    "# corr = df.corr()\n",
    "\n",
    "# # Generate a mask for the upper triangle\n",
    "# mask = np.zeros_like(corr, dtype=np.bool)\n",
    "# mask[np.triu_indices_from(mask)] = True\n",
    "\n",
    "# sns.heatmap(corr, mask=mask, cmap='bwr', center=0, annot=True)\n",
    "\n",
    "# # fix for matplotlib bug that cuts off top/bottom of seaborn viz\n",
    "# b, t = plt.ylim() # discover the values for bottom and top\n",
    "# b += 0.5 # Add 0.5 to the bottom\n",
    "# t -= 0.5 # Subtract 0.5 from the top\n",
    "# plt.ylim(b, t) # update the ylim(bottom, top) values\n",
    "\n",
    "# plt.show()"
   ]
  },
  {
   "cell_type": "code",
   "execution_count": 31,
   "metadata": {
    "scrolled": true
   },
   "outputs": [],
   "source": [
    "# #Checking on new features\n",
    "# sns.pairplot(df[['age', 'last_ren', 'last_ren2', 'neighbors_compared', 'renovated_1', 'basement_1', 'price']], corner=True)\n"
   ]
  },
  {
   "cell_type": "code",
   "execution_count": 32,
   "metadata": {},
   "outputs": [
    {
     "data": {
      "text/html": [
       "<div>\n",
       "<style scoped>\n",
       "    .dataframe tbody tr th:only-of-type {\n",
       "        vertical-align: middle;\n",
       "    }\n",
       "\n",
       "    .dataframe tbody tr th {\n",
       "        vertical-align: top;\n",
       "    }\n",
       "\n",
       "    .dataframe thead th {\n",
       "        text-align: right;\n",
       "    }\n",
       "</style>\n",
       "<table border=\"1\" class=\"dataframe\">\n",
       "  <thead>\n",
       "    <tr style=\"text-align: right;\">\n",
       "      <th></th>\n",
       "      <th>price</th>\n",
       "      <th>bedrooms</th>\n",
       "      <th>bathrooms</th>\n",
       "      <th>sqft_living</th>\n",
       "      <th>sqft_lot</th>\n",
       "      <th>waterfront</th>\n",
       "      <th>view</th>\n",
       "      <th>grade</th>\n",
       "      <th>sqft_above</th>\n",
       "      <th>sqft_basement</th>\n",
       "      <th>yr_built</th>\n",
       "      <th>yr_renovated</th>\n",
       "      <th>lat</th>\n",
       "      <th>long</th>\n",
       "      <th>sqft_living15</th>\n",
       "      <th>sqft_lot15</th>\n",
       "      <th>month_sold</th>\n",
       "      <th>floors_x_sqft_living</th>\n",
       "      <th>condition_2</th>\n",
       "      <th>condition_3</th>\n",
       "      <th>condition_4</th>\n",
       "      <th>condition_5</th>\n",
       "      <th>floors_1.5</th>\n",
       "      <th>floors_2.0</th>\n",
       "      <th>floors_2.5</th>\n",
       "      <th>floors_3.0</th>\n",
       "      <th>floors_3.5</th>\n",
       "      <th>age</th>\n",
       "      <th>basement_1</th>\n",
       "      <th>neighbors_compared</th>\n",
       "      <th>nc2_1</th>\n",
       "      <th>last_ren</th>\n",
       "      <th>last_ren2</th>\n",
       "      <th>renovated_1</th>\n",
       "    </tr>\n",
       "  </thead>\n",
       "  <tbody>\n",
       "    <tr>\n",
       "      <th>0</th>\n",
       "      <td>365000.00</td>\n",
       "      <td>4</td>\n",
       "      <td>2.25</td>\n",
       "      <td>2070.00</td>\n",
       "      <td>395985.01</td>\n",
       "      <td>0</td>\n",
       "      <td>0</td>\n",
       "      <td>8</td>\n",
       "      <td>2070.00</td>\n",
       "      <td>0</td>\n",
       "      <td>1986</td>\n",
       "      <td>0</td>\n",
       "      <td>47.44</td>\n",
       "      <td>-122.16</td>\n",
       "      <td>2390.00</td>\n",
       "      <td>257920.41</td>\n",
       "      <td>10</td>\n",
       "      <td>4140.00</td>\n",
       "      <td>0</td>\n",
       "      <td>0</td>\n",
       "      <td>1</td>\n",
       "      <td>0</td>\n",
       "      <td>0</td>\n",
       "      <td>1</td>\n",
       "      <td>0</td>\n",
       "      <td>0</td>\n",
       "      <td>0</td>\n",
       "      <td>29</td>\n",
       "      <td>0</td>\n",
       "      <td>-320.00</td>\n",
       "      <td>0</td>\n",
       "      <td>0</td>\n",
       "      <td>29</td>\n",
       "      <td>0</td>\n",
       "    </tr>\n",
       "    <tr>\n",
       "      <th>1</th>\n",
       "      <td>865000.00</td>\n",
       "      <td>5</td>\n",
       "      <td>3.00</td>\n",
       "      <td>2900.00</td>\n",
       "      <td>395985.01</td>\n",
       "      <td>0</td>\n",
       "      <td>0</td>\n",
       "      <td>8</td>\n",
       "      <td>1830.00</td>\n",
       "      <td>1070</td>\n",
       "      <td>1977</td>\n",
       "      <td>0</td>\n",
       "      <td>47.68</td>\n",
       "      <td>-122.28</td>\n",
       "      <td>2370.00</td>\n",
       "      <td>257920.41</td>\n",
       "      <td>8</td>\n",
       "      <td>2900.00</td>\n",
       "      <td>0</td>\n",
       "      <td>0</td>\n",
       "      <td>0</td>\n",
       "      <td>1</td>\n",
       "      <td>0</td>\n",
       "      <td>0</td>\n",
       "      <td>0</td>\n",
       "      <td>0</td>\n",
       "      <td>0</td>\n",
       "      <td>38</td>\n",
       "      <td>1</td>\n",
       "      <td>530.00</td>\n",
       "      <td>1</td>\n",
       "      <td>0</td>\n",
       "      <td>38</td>\n",
       "      <td>0</td>\n",
       "    </tr>\n",
       "    <tr>\n",
       "      <th>2</th>\n",
       "      <td>1038000.00</td>\n",
       "      <td>4</td>\n",
       "      <td>2.50</td>\n",
       "      <td>3770.00</td>\n",
       "      <td>395985.01</td>\n",
       "      <td>0</td>\n",
       "      <td>2</td>\n",
       "      <td>11</td>\n",
       "      <td>3770.00</td>\n",
       "      <td>0</td>\n",
       "      <td>1997</td>\n",
       "      <td>0</td>\n",
       "      <td>47.56</td>\n",
       "      <td>-122.13</td>\n",
       "      <td>3710.00</td>\n",
       "      <td>257920.41</td>\n",
       "      <td>8</td>\n",
       "      <td>7540.00</td>\n",
       "      <td>0</td>\n",
       "      <td>1</td>\n",
       "      <td>0</td>\n",
       "      <td>0</td>\n",
       "      <td>0</td>\n",
       "      <td>1</td>\n",
       "      <td>0</td>\n",
       "      <td>0</td>\n",
       "      <td>0</td>\n",
       "      <td>18</td>\n",
       "      <td>0</td>\n",
       "      <td>60.00</td>\n",
       "      <td>1</td>\n",
       "      <td>0</td>\n",
       "      <td>18</td>\n",
       "      <td>0</td>\n",
       "    </tr>\n",
       "    <tr>\n",
       "      <th>3</th>\n",
       "      <td>1490000.00</td>\n",
       "      <td>3</td>\n",
       "      <td>3.50</td>\n",
       "      <td>4560.00</td>\n",
       "      <td>395985.01</td>\n",
       "      <td>0</td>\n",
       "      <td>2</td>\n",
       "      <td>12</td>\n",
       "      <td>4560.00</td>\n",
       "      <td>0</td>\n",
       "      <td>1990</td>\n",
       "      <td>0</td>\n",
       "      <td>47.70</td>\n",
       "      <td>-122.23</td>\n",
       "      <td>4050.00</td>\n",
       "      <td>257920.41</td>\n",
       "      <td>3</td>\n",
       "      <td>9120.00</td>\n",
       "      <td>0</td>\n",
       "      <td>1</td>\n",
       "      <td>0</td>\n",
       "      <td>0</td>\n",
       "      <td>0</td>\n",
       "      <td>1</td>\n",
       "      <td>0</td>\n",
       "      <td>0</td>\n",
       "      <td>0</td>\n",
       "      <td>25</td>\n",
       "      <td>0</td>\n",
       "      <td>510.00</td>\n",
       "      <td>1</td>\n",
       "      <td>0</td>\n",
       "      <td>25</td>\n",
       "      <td>0</td>\n",
       "    </tr>\n",
       "    <tr>\n",
       "      <th>4</th>\n",
       "      <td>711000.00</td>\n",
       "      <td>3</td>\n",
       "      <td>2.50</td>\n",
       "      <td>2550.00</td>\n",
       "      <td>5376.00</td>\n",
       "      <td>0</td>\n",
       "      <td>0</td>\n",
       "      <td>9</td>\n",
       "      <td>2550.00</td>\n",
       "      <td>0</td>\n",
       "      <td>2004</td>\n",
       "      <td>0</td>\n",
       "      <td>47.66</td>\n",
       "      <td>-122.08</td>\n",
       "      <td>2250.00</td>\n",
       "      <td>4050.00</td>\n",
       "      <td>7</td>\n",
       "      <td>5100.00</td>\n",
       "      <td>0</td>\n",
       "      <td>1</td>\n",
       "      <td>0</td>\n",
       "      <td>0</td>\n",
       "      <td>0</td>\n",
       "      <td>1</td>\n",
       "      <td>0</td>\n",
       "      <td>0</td>\n",
       "      <td>0</td>\n",
       "      <td>11</td>\n",
       "      <td>0</td>\n",
       "      <td>300.00</td>\n",
       "      <td>1</td>\n",
       "      <td>0</td>\n",
       "      <td>11</td>\n",
       "      <td>0</td>\n",
       "    </tr>\n",
       "  </tbody>\n",
       "</table>\n",
       "</div>"
      ],
      "text/plain": [
       "       price  bedrooms  bathrooms  sqft_living  sqft_lot  waterfront  view  \\\n",
       "0  365000.00         4       2.25      2070.00 395985.01           0     0   \n",
       "1  865000.00         5       3.00      2900.00 395985.01           0     0   \n",
       "2 1038000.00         4       2.50      3770.00 395985.01           0     2   \n",
       "3 1490000.00         3       3.50      4560.00 395985.01           0     2   \n",
       "4  711000.00         3       2.50      2550.00   5376.00           0     0   \n",
       "\n",
       "   grade  sqft_above  sqft_basement  yr_built  yr_renovated   lat    long  \\\n",
       "0      8     2070.00              0      1986             0 47.44 -122.16   \n",
       "1      8     1830.00           1070      1977             0 47.68 -122.28   \n",
       "2     11     3770.00              0      1997             0 47.56 -122.13   \n",
       "3     12     4560.00              0      1990             0 47.70 -122.23   \n",
       "4      9     2550.00              0      2004             0 47.66 -122.08   \n",
       "\n",
       "   sqft_living15  sqft_lot15  month_sold  floors_x_sqft_living  condition_2  \\\n",
       "0        2390.00   257920.41          10               4140.00            0   \n",
       "1        2370.00   257920.41           8               2900.00            0   \n",
       "2        3710.00   257920.41           8               7540.00            0   \n",
       "3        4050.00   257920.41           3               9120.00            0   \n",
       "4        2250.00     4050.00           7               5100.00            0   \n",
       "\n",
       "   condition_3  condition_4  condition_5  floors_1.5  floors_2.0  floors_2.5  \\\n",
       "0            0            1            0           0           1           0   \n",
       "1            0            0            1           0           0           0   \n",
       "2            1            0            0           0           1           0   \n",
       "3            1            0            0           0           1           0   \n",
       "4            1            0            0           0           1           0   \n",
       "\n",
       "   floors_3.0  floors_3.5  age  basement_1  neighbors_compared  nc2_1  \\\n",
       "0           0           0   29           0             -320.00      0   \n",
       "1           0           0   38           1              530.00      1   \n",
       "2           0           0   18           0               60.00      1   \n",
       "3           0           0   25           0              510.00      1   \n",
       "4           0           0   11           0              300.00      1   \n",
       "\n",
       "   last_ren  last_ren2  renovated_1  \n",
       "0         0         29            0  \n",
       "1         0         38            0  \n",
       "2         0         18            0  \n",
       "3         0         25            0  \n",
       "4         0         11            0  "
      ]
     },
     "execution_count": 32,
     "metadata": {},
     "output_type": "execute_result"
    }
   ],
   "source": [
    "df.head()"
   ]
  },
  {
   "cell_type": "code",
   "execution_count": 33,
   "metadata": {},
   "outputs": [
    {
     "data": {
      "image/png": "[encoded data removed]",
      "text/plain": [
       "<Figure size 432x288 with 5 Axes>"
      ]
     },
     "metadata": {
      "needs_background": "light"
     },
     "output_type": "display_data"
    }
   ],
   "source": [
    "# Create bar plots\n",
    "fig, axes = plt.subplots(nrows=1, ncols=5, sharey=True)\n",
    "\n",
    "categoricals = ['waterfront', 'view', 'basement_1', 'renovated_1', 'nc2_1']\n",
    "\n",
    "for col, ax in zip(categoricals, axes.flatten()):\n",
    "    (df.groupby(col).mean()['price']\n",
    "         .sort_values()              # sort the groups in ascending order if desired\n",
    "         .plot.bar(ax=ax))\n",
    "    ax.set_title(col)\n",
    "fig.tight_layout()"
   ]
  },
  {
   "cell_type": "code",
   "execution_count": 34,
   "metadata": {},
   "outputs": [],
   "source": [
    "# Concat df and zip dummies DFs\n",
    "df = pd.concat([df, zip_dummies], axis=1)"
   ]
  },
  {
   "cell_type": "markdown",
   "metadata": {},
   "source": [
    "### 4.1) Identify a categorical variable in the data set and create dummy columns.\n",
    "- condition, view, bathrooms, bedrooms, floors, zipcode"
   ]
  },
  {
   "cell_type": "code",
   "execution_count": 35,
   "metadata": {},
   "outputs": [],
   "source": [
    "# your code here"
   ]
  },
  {
   "cell_type": "markdown",
   "metadata": {
    "heading_collapsed": true
   },
   "source": [
    "### 4.2) There is a column that gives the date for when the house was sold, how could this be useful in your model? How might you transform the current column to a more useful feature?"
   ]
  },
  {
   "cell_type": "code",
   "execution_count": 36,
   "metadata": {
    "hidden": true
   },
   "outputs": [],
   "source": [
    "#your code here"
   ]
  },
  {
   "cell_type": "markdown",
   "metadata": {},
   "source": [
    "### 4.3) There are columns for when the house was built and when it was renovated.  How could you use these columns to create a new column?"
   ]
  },
  {
   "cell_type": "code",
   "execution_count": 37,
   "metadata": {},
   "outputs": [],
   "source": [
    "#your code here "
   ]
  },
  {
   "cell_type": "markdown",
   "metadata": {},
   "source": [
    "### <ins>Non-linear transformations</ins>\n",
    "\n",
    "### 4.4) Create a polynomial feature for two of your continuous variables."
   ]
  },
  {
   "cell_type": "code",
   "execution_count": 38,
   "metadata": {},
   "outputs": [],
   "source": [
    "#df.head() # Sanity Check to remove dummy variables"
   ]
  },
  {
   "cell_type": "code",
   "execution_count": 39,
   "metadata": {
    "scrolled": true
   },
   "outputs": [
    {
     "data": {
      "text/plain": [
       "['price',\n",
       " 'bedrooms',\n",
       " 'bathrooms',\n",
       " 'sqft_living',\n",
       " 'sqft_lot',\n",
       " 'waterfront',\n",
       " 'view',\n",
       " 'grade',\n",
       " 'sqft_above',\n",
       " 'sqft_basement',\n",
       " 'yr_built',\n",
       " 'yr_renovated',\n",
       " 'lat',\n",
       " 'long',\n",
       " 'sqft_living15',\n",
       " 'sqft_lot15',\n",
       " 'month_sold',\n",
       " 'floors_x_sqft_living',\n",
       " 'condition_2',\n",
       " 'condition_3',\n",
       " 'condition_4',\n",
       " 'condition_5',\n",
       " 'floors_1.5',\n",
       " 'floors_2.0',\n",
       " 'floors_2.5',\n",
       " 'floors_3.0',\n",
       " 'floors_3.5',\n",
       " 'age',\n",
       " 'basement_1',\n",
       " 'neighbors_compared',\n",
       " 'nc2_1',\n",
       " 'last_ren',\n",
       " 'last_ren2',\n",
       " 'renovated_1',\n",
       " '98002',\n",
       " '98003',\n",
       " '98004',\n",
       " '98005',\n",
       " '98006',\n",
       " '98007',\n",
       " '98008',\n",
       " '98010',\n",
       " '98011',\n",
       " '98014',\n",
       " '98019',\n",
       " '98022',\n",
       " '98023',\n",
       " '98024',\n",
       " '98027',\n",
       " '98028',\n",
       " '98029',\n",
       " '98030',\n",
       " '98031',\n",
       " '98032',\n",
       " '98033',\n",
       " '98034',\n",
       " '98038',\n",
       " '98039',\n",
       " '98040',\n",
       " '98042',\n",
       " '98045',\n",
       " '98052',\n",
       " '98053',\n",
       " '98055',\n",
       " '98056',\n",
       " '98058',\n",
       " '98059',\n",
       " '98065',\n",
       " '98070',\n",
       " '98072',\n",
       " '98074',\n",
       " '98075',\n",
       " '98077',\n",
       " '98092',\n",
       " '98102',\n",
       " '98103',\n",
       " '98105',\n",
       " '98106',\n",
       " '98107',\n",
       " '98108',\n",
       " '98109',\n",
       " '98112',\n",
       " '98115',\n",
       " '98116',\n",
       " '98117',\n",
       " '98118',\n",
       " '98119',\n",
       " '98122',\n",
       " '98125',\n",
       " '98126',\n",
       " '98133',\n",
       " '98136',\n",
       " '98144',\n",
       " '98146',\n",
       " '98148',\n",
       " '98155',\n",
       " '98166',\n",
       " '98168',\n",
       " '98177',\n",
       " '98178',\n",
       " '98188',\n",
       " '98198',\n",
       " '98199']"
      ]
     },
     "execution_count": 39,
     "metadata": {},
     "output_type": "execute_result"
    }
   ],
   "source": [
    "list(df.columns)"
   ]
  },
  {
   "cell_type": "code",
   "execution_count": 40,
   "metadata": {},
   "outputs": [],
   "source": [
    "features = ['bedrooms',\n",
    " 'bathrooms',\n",
    " 'sqft_living',\n",
    " 'sqft_lot',\n",
    " 'waterfront',\n",
    " 'view',\n",
    " 'grade',\n",
    " 'sqft_above',\n",
    " 'sqft_basement',\n",
    " 'yr_built',\n",
    " 'yr_renovated',\n",
    " 'lat',\n",
    " 'long',\n",
    " 'sqft_living15',\n",
    " 'sqft_lot15',\n",
    " 'month_sold',\n",
    " 'floors_x_sqft_living',\n",
    " 'condition_2',\n",
    " 'condition_3',\n",
    " 'condition_4',\n",
    " 'condition_5',\n",
    " 'floors_1.5',\n",
    " 'floors_2.0',\n",
    " 'floors_2.5',\n",
    " 'floors_3.0',\n",
    " 'floors_3.5',\n",
    " 'age',\n",
    " 'basement_1',\n",
    " 'neighbors_compared',\n",
    " 'nc2_1',\n",
    " 'last_ren',\n",
    " 'last_ren2',\n",
    " 'renovated_1',]\n",
    "df_features = df[features]\n",
    "target = df['price']"
   ]
  },
  {
   "cell_type": "code",
   "execution_count": 41,
   "metadata": {},
   "outputs": [],
   "source": [
    "# # your code here\n",
    "# poly_cols = ['bedrooms', 'bathrooms', 'sqft_living', 'sqft_lot', 'floors', 'view', 'condition', 'grade', 'sqft_above',\n",
    "#        'sqft_basement', 'yr_renovated', 'lat', 'long',\n",
    "#        'sqft_living15', 'sqft_lot15', 'yr_sold', 'month_sold',\n",
    "#        'age', 'last_ren2', 'neighbors_compared']\n",
    "\n",
    "# poly2_features = pd.DataFrame()\n",
    "# poly3_features = pd.DataFrame()\n",
    "\n",
    "# for feat in poly_cols:\n",
    "#     poly2_features[feat+'^2'] = df[feat]**2\n",
    "# for feat in poly_cols:    \n",
    "#     poly3_features[feat+'^3'] = df[feat]**3\n",
    "    "
   ]
  },
  {
   "cell_type": "code",
   "execution_count": 42,
   "metadata": {},
   "outputs": [
    {
     "data": {
      "text/html": [
       "<div>\n",
       "<style scoped>\n",
       "    .dataframe tbody tr th:only-of-type {\n",
       "        vertical-align: middle;\n",
       "    }\n",
       "\n",
       "    .dataframe tbody tr th {\n",
       "        vertical-align: top;\n",
       "    }\n",
       "\n",
       "    .dataframe thead th {\n",
       "        text-align: right;\n",
       "    }\n",
       "</style>\n",
       "<table border=\"1\" class=\"dataframe\">\n",
       "  <thead>\n",
       "    <tr style=\"text-align: right;\">\n",
       "      <th></th>\n",
       "      <th>bedrooms</th>\n",
       "      <th>bathrooms</th>\n",
       "      <th>sqft_living</th>\n",
       "      <th>sqft_lot</th>\n",
       "      <th>waterfront</th>\n",
       "      <th>view</th>\n",
       "      <th>grade</th>\n",
       "      <th>sqft_above</th>\n",
       "      <th>sqft_basement</th>\n",
       "      <th>yr_built</th>\n",
       "      <th>yr_renovated</th>\n",
       "      <th>lat</th>\n",
       "      <th>long</th>\n",
       "      <th>sqft_living15</th>\n",
       "      <th>sqft_lot15</th>\n",
       "      <th>month_sold</th>\n",
       "      <th>floors_x_sqft_living</th>\n",
       "      <th>condition_2</th>\n",
       "      <th>condition_3</th>\n",
       "      <th>condition_4</th>\n",
       "      <th>condition_5</th>\n",
       "      <th>floors_1.5</th>\n",
       "      <th>floors_2.0</th>\n",
       "      <th>floors_2.5</th>\n",
       "      <th>floors_3.0</th>\n",
       "      <th>floors_3.5</th>\n",
       "      <th>age</th>\n",
       "      <th>basement_1</th>\n",
       "      <th>neighbors_compared</th>\n",
       "      <th>nc2_1</th>\n",
       "      <th>last_ren</th>\n",
       "      <th>last_ren2</th>\n",
       "      <th>renovated_1</th>\n",
       "    </tr>\n",
       "  </thead>\n",
       "  <tbody>\n",
       "    <tr>\n",
       "      <th>0</th>\n",
       "      <td>4</td>\n",
       "      <td>2.25</td>\n",
       "      <td>2070.00</td>\n",
       "      <td>395985.01</td>\n",
       "      <td>0</td>\n",
       "      <td>0</td>\n",
       "      <td>8</td>\n",
       "      <td>2070.00</td>\n",
       "      <td>0</td>\n",
       "      <td>1986</td>\n",
       "      <td>0</td>\n",
       "      <td>47.44</td>\n",
       "      <td>-122.16</td>\n",
       "      <td>2390.00</td>\n",
       "      <td>257920.41</td>\n",
       "      <td>10</td>\n",
       "      <td>4140.00</td>\n",
       "      <td>0</td>\n",
       "      <td>0</td>\n",
       "      <td>1</td>\n",
       "      <td>0</td>\n",
       "      <td>0</td>\n",
       "      <td>1</td>\n",
       "      <td>0</td>\n",
       "      <td>0</td>\n",
       "      <td>0</td>\n",
       "      <td>29</td>\n",
       "      <td>0</td>\n",
       "      <td>-320.00</td>\n",
       "      <td>0</td>\n",
       "      <td>0</td>\n",
       "      <td>29</td>\n",
       "      <td>0</td>\n",
       "    </tr>\n",
       "    <tr>\n",
       "      <th>1</th>\n",
       "      <td>5</td>\n",
       "      <td>3.00</td>\n",
       "      <td>2900.00</td>\n",
       "      <td>395985.01</td>\n",
       "      <td>0</td>\n",
       "      <td>0</td>\n",
       "      <td>8</td>\n",
       "      <td>1830.00</td>\n",
       "      <td>1070</td>\n",
       "      <td>1977</td>\n",
       "      <td>0</td>\n",
       "      <td>47.68</td>\n",
       "      <td>-122.28</td>\n",
       "      <td>2370.00</td>\n",
       "      <td>257920.41</td>\n",
       "      <td>8</td>\n",
       "      <td>2900.00</td>\n",
       "      <td>0</td>\n",
       "      <td>0</td>\n",
       "      <td>0</td>\n",
       "      <td>1</td>\n",
       "      <td>0</td>\n",
       "      <td>0</td>\n",
       "      <td>0</td>\n",
       "      <td>0</td>\n",
       "      <td>0</td>\n",
       "      <td>38</td>\n",
       "      <td>1</td>\n",
       "      <td>530.00</td>\n",
       "      <td>1</td>\n",
       "      <td>0</td>\n",
       "      <td>38</td>\n",
       "      <td>0</td>\n",
       "    </tr>\n",
       "    <tr>\n",
       "      <th>2</th>\n",
       "      <td>4</td>\n",
       "      <td>2.50</td>\n",
       "      <td>3770.00</td>\n",
       "      <td>395985.01</td>\n",
       "      <td>0</td>\n",
       "      <td>2</td>\n",
       "      <td>11</td>\n",
       "      <td>3770.00</td>\n",
       "      <td>0</td>\n",
       "      <td>1997</td>\n",
       "      <td>0</td>\n",
       "      <td>47.56</td>\n",
       "      <td>-122.13</td>\n",
       "      <td>3710.00</td>\n",
       "      <td>257920.41</td>\n",
       "      <td>8</td>\n",
       "      <td>7540.00</td>\n",
       "      <td>0</td>\n",
       "      <td>1</td>\n",
       "      <td>0</td>\n",
       "      <td>0</td>\n",
       "      <td>0</td>\n",
       "      <td>1</td>\n",
       "      <td>0</td>\n",
       "      <td>0</td>\n",
       "      <td>0</td>\n",
       "      <td>18</td>\n",
       "      <td>0</td>\n",
       "      <td>60.00</td>\n",
       "      <td>1</td>\n",
       "      <td>0</td>\n",
       "      <td>18</td>\n",
       "      <td>0</td>\n",
       "    </tr>\n",
       "    <tr>\n",
       "      <th>3</th>\n",
       "      <td>3</td>\n",
       "      <td>3.50</td>\n",
       "      <td>4560.00</td>\n",
       "      <td>395985.01</td>\n",
       "      <td>0</td>\n",
       "      <td>2</td>\n",
       "      <td>12</td>\n",
       "      <td>4560.00</td>\n",
       "      <td>0</td>\n",
       "      <td>1990</td>\n",
       "      <td>0</td>\n",
       "      <td>47.70</td>\n",
       "      <td>-122.23</td>\n",
       "      <td>4050.00</td>\n",
       "      <td>257920.41</td>\n",
       "      <td>3</td>\n",
       "      <td>9120.00</td>\n",
       "      <td>0</td>\n",
       "      <td>1</td>\n",
       "      <td>0</td>\n",
       "      <td>0</td>\n",
       "      <td>0</td>\n",
       "      <td>1</td>\n",
       "      <td>0</td>\n",
       "      <td>0</td>\n",
       "      <td>0</td>\n",
       "      <td>25</td>\n",
       "      <td>0</td>\n",
       "      <td>510.00</td>\n",
       "      <td>1</td>\n",
       "      <td>0</td>\n",
       "      <td>25</td>\n",
       "      <td>0</td>\n",
       "    </tr>\n",
       "    <tr>\n",
       "      <th>4</th>\n",
       "      <td>3</td>\n",
       "      <td>2.50</td>\n",
       "      <td>2550.00</td>\n",
       "      <td>5376.00</td>\n",
       "      <td>0</td>\n",
       "      <td>0</td>\n",
       "      <td>9</td>\n",
       "      <td>2550.00</td>\n",
       "      <td>0</td>\n",
       "      <td>2004</td>\n",
       "      <td>0</td>\n",
       "      <td>47.66</td>\n",
       "      <td>-122.08</td>\n",
       "      <td>2250.00</td>\n",
       "      <td>4050.00</td>\n",
       "      <td>7</td>\n",
       "      <td>5100.00</td>\n",
       "      <td>0</td>\n",
       "      <td>1</td>\n",
       "      <td>0</td>\n",
       "      <td>0</td>\n",
       "      <td>0</td>\n",
       "      <td>1</td>\n",
       "      <td>0</td>\n",
       "      <td>0</td>\n",
       "      <td>0</td>\n",
       "      <td>11</td>\n",
       "      <td>0</td>\n",
       "      <td>300.00</td>\n",
       "      <td>1</td>\n",
       "      <td>0</td>\n",
       "      <td>11</td>\n",
       "      <td>0</td>\n",
       "    </tr>\n",
       "  </tbody>\n",
       "</table>\n",
       "</div>"
      ],
      "text/plain": [
       "   bedrooms  bathrooms  sqft_living  sqft_lot  waterfront  view  grade  \\\n",
       "0         4       2.25      2070.00 395985.01           0     0      8   \n",
       "1         5       3.00      2900.00 395985.01           0     0      8   \n",
       "2         4       2.50      3770.00 395985.01           0     2     11   \n",
       "3         3       3.50      4560.00 395985.01           0     2     12   \n",
       "4         3       2.50      2550.00   5376.00           0     0      9   \n",
       "\n",
       "   sqft_above  sqft_basement  yr_built  yr_renovated   lat    long  \\\n",
       "0     2070.00              0      1986             0 47.44 -122.16   \n",
       "1     1830.00           1070      1977             0 47.68 -122.28   \n",
       "2     3770.00              0      1997             0 47.56 -122.13   \n",
       "3     4560.00              0      1990             0 47.70 -122.23   \n",
       "4     2550.00              0      2004             0 47.66 -122.08   \n",
       "\n",
       "   sqft_living15  sqft_lot15  month_sold  floors_x_sqft_living  condition_2  \\\n",
       "0        2390.00   257920.41          10               4140.00            0   \n",
       "1        2370.00   257920.41           8               2900.00            0   \n",
       "2        3710.00   257920.41           8               7540.00            0   \n",
       "3        4050.00   257920.41           3               9120.00            0   \n",
       "4        2250.00     4050.00           7               5100.00            0   \n",
       "\n",
       "   condition_3  condition_4  condition_5  floors_1.5  floors_2.0  floors_2.5  \\\n",
       "0            0            1            0           0           1           0   \n",
       "1            0            0            1           0           0           0   \n",
       "2            1            0            0           0           1           0   \n",
       "3            1            0            0           0           1           0   \n",
       "4            1            0            0           0           1           0   \n",
       "\n",
       "   floors_3.0  floors_3.5  age  basement_1  neighbors_compared  nc2_1  \\\n",
       "0           0           0   29           0             -320.00      0   \n",
       "1           0           0   38           1              530.00      1   \n",
       "2           0           0   18           0               60.00      1   \n",
       "3           0           0   25           0              510.00      1   \n",
       "4           0           0   11           0              300.00      1   \n",
       "\n",
       "   last_ren  last_ren2  renovated_1  \n",
       "0         0         29            0  \n",
       "1         0         38            0  \n",
       "2         0         18            0  \n",
       "3         0         25            0  \n",
       "4         0         11            0  "
      ]
     },
     "execution_count": 42,
     "metadata": {},
     "output_type": "execute_result"
    }
   ],
   "source": [
    "df[features].head()"
   ]
  },
  {
   "cell_type": "markdown",
   "metadata": {},
   "source": [
    "# Step 5: Train-Test Split"
   ]
  },
  {
   "cell_type": "markdown",
   "metadata": {},
   "source": [
    "### 5.1) Perform a train-test split of the data."
   ]
  },
  {
   "cell_type": "markdown",
   "metadata": {},
   "source": [
    "This code will need to be re-run with list(df.columns) if features are added"
   ]
  },
  {
   "cell_type": "code",
   "execution_count": 43,
   "metadata": {},
   "outputs": [],
   "source": [
    "# df.head() #Sanity Check"
   ]
  },
  {
   "cell_type": "code",
   "execution_count": 44,
   "metadata": {},
   "outputs": [],
   "source": [
    "df_features = df[features]\n",
    "target = df['price']"
   ]
  },
  {
   "cell_type": "code",
   "execution_count": 45,
   "metadata": {},
   "outputs": [
    {
     "name": "stdout",
     "output_type": "stream",
     "text": [
      "Training set - Features:  (13832, 33) Target:  (13832,)\n",
      "Training set - Features:  (3458, 33) Target:  (3458,)\n"
     ]
    }
   ],
   "source": [
    "X_train, X_test, y_train, y_test = train_test_split(df_features, target, random_state=42,test_size=0.2)\n",
    "\n",
    "#check the shape of the results\n",
    "print(\"Training set - Features: \", X_train.shape, \"Target: \", y_train.shape)\n",
    "print(\"Training set - Features: \", X_test.shape, \"Target: \",y_test.shape)"
   ]
  },
  {
   "cell_type": "markdown",
   "metadata": {
    "heading_collapsed": true
   },
   "source": [
    "# Log\n",
    "- LOG Training Root Mean Squared Error: 188833\n",
    "- LOG Testing Root Mean Squared Error:  179438"
   ]
  },
  {
   "cell_type": "code",
   "execution_count": 46,
   "metadata": {
    "hidden": true
   },
   "outputs": [],
   "source": [
    "y_log = np.log(y_train)\n",
    "\n",
    "# instantiate a linear regression object and fit\n",
    "lm_log = LinearRegression()\n",
    "lm_log = lm_log.fit(X_train, y_log)"
   ]
  },
  {
   "cell_type": "code",
   "execution_count": 47,
   "metadata": {
    "hidden": true
   },
   "outputs": [
    {
     "name": "stdout",
     "output_type": "stream",
     "text": [
      "LOG Training Root Mean Squared Error: 188833.79796143202\n"
     ]
    }
   ],
   "source": [
    "log_train_pred = lm_log.predict(X_train)\n",
    "\n",
    "# exponentiate the predictions to get them on the same original scale \n",
    "y_train_pred = np.exp(log_train_pred)\n",
    "train_rmse = np.sqrt(metrics.mean_squared_error(y_train, y_train_pred))\n",
    "\n",
    "print('LOG Training Root Mean Squared Error:' , train_rmse)"
   ]
  },
  {
   "cell_type": "code",
   "execution_count": 48,
   "metadata": {
    "hidden": true
   },
   "outputs": [
    {
     "name": "stdout",
     "output_type": "stream",
     "text": [
      "LOG Training Root Mean Squared Error: 188833.79796143202\n",
      "LOG Testing Root Mean Squared Error:  179438.58947236522\n"
     ]
    }
   ],
   "source": [
    "log_test_pred = lm_log.predict(X_test)\n",
    "\n",
    "# exponentiate the predictions to get them on the same original scale \n",
    "log_test_pred = np.exp(log_test_pred)\n",
    "log_test_rmse = np.sqrt(metrics.mean_squared_error(y_test, log_test_pred))\n",
    "\n",
    "print('LOG Training Root Mean Squared Error:' , train_rmse)\n",
    "print('LOG Testing Root Mean Squared Error: ' , log_test_rmse)"
   ]
  },
  {
   "cell_type": "code",
   "execution_count": 49,
   "metadata": {
    "hidden": true
   },
   "outputs": [
    {
     "data": {
      "text/plain": [
       "108365.29843434735"
      ]
     },
     "execution_count": 49,
     "metadata": {},
     "output_type": "execute_result"
    }
   ],
   "source": [
    "# Checking mae vs rmse\n",
    "metrics.mean_absolute_error(y_train, y_train_pred) "
   ]
  },
  {
   "cell_type": "code",
   "execution_count": 50,
   "metadata": {
    "hidden": true
   },
   "outputs": [],
   "source": [
    "# #If we decide to use Log, run this cell!!\n",
    "\n",
    "# # reassign y_test_pred to our log model\n",
    "# y_test_pred = lm_log.predict(X_test)\n",
    "\n",
    "# #our model predicted the log of gross, so now we must exponentiate to get value back in $\n",
    "# y_test_pred = np.exp(y_test_pred)\n",
    "\n",
    "# test_rmse = np.sqrt(metrics.mean_squared_error(y_test, y_test_pred))\n",
    "\n",
    "# #print('Testing Root Mean Squared Error:' , test_rmse)\n",
    "# print('Training: ', int(train_rmse), \"vs. Testing: \", int(test_rmse))"
   ]
  },
  {
   "cell_type": "markdown",
   "metadata": {},
   "source": [
    "# Polynomial Features"
   ]
  },
  {
   "cell_type": "markdown",
   "metadata": {},
   "source": [
    "## Poly 2\n",
    "\n",
    "before feature selection\n",
    "- Training:  117785\n",
    "- Testing:  212585\n",
    "\n",
    "#### Poly with Log and Kbest (83 features)\n",
    "- KBEST Training RMSE: 171,302\n",
    "- KBEST Testing RMSE: 170,581\n",
    "\n",
    "without Log, with Kbest?\n",
    "\n",
    "#### Poly with Log and RFE (after zips)\n",
    "- RFE Training RMSE: 179,763\n",
    "- RFE Testing RMSE: 170,627"
   ]
  },
  {
   "cell_type": "markdown",
   "metadata": {},
   "source": [
    "##### with log, no feature selection"
   ]
  },
  {
   "cell_type": "code",
   "execution_count": 51,
   "metadata": {},
   "outputs": [],
   "source": [
    "poly_features = df[features]\n",
    "target = df['price']"
   ]
  },
  {
   "cell_type": "code",
   "execution_count": 52,
   "metadata": {},
   "outputs": [],
   "source": [
    "poly_2 = PolynomialFeatures(degree=2, include_bias=False)\n",
    "poly2_data = poly_2.fit_transform(poly_features)\n",
    "poly2_columns = poly_2.get_feature_names(poly_features.columns)\n",
    "df_poly2 = pd.DataFrame(poly2_data, columns=poly2_columns)\n",
    "#df_poly2.head() #Sanity Check"
   ]
  },
  {
   "cell_type": "code",
   "execution_count": 53,
   "metadata": {},
   "outputs": [],
   "source": [
    "# Concat dfs together to test\n",
    "df_poly2 = pd.concat([df_poly2, zip_dummies], axis=1)\n",
    "# df_poly2.head()"
   ]
  },
  {
   "cell_type": "code",
   "execution_count": 54,
   "metadata": {},
   "outputs": [],
   "source": [
    "X_train, X_test, y_train, y_test = train_test_split(df_poly2, target, random_state=42,test_size=0.2)"
   ]
  },
  {
   "cell_type": "code",
   "execution_count": 55,
   "metadata": {},
   "outputs": [
    {
     "name": "stdout",
     "output_type": "stream",
     "text": [
      "Training Root Mean Squared Error: 117785.53262229954\n"
     ]
    }
   ],
   "source": [
    "# instantiate a linear regression object and fit to training data\n",
    "lm_2 = LinearRegression()\n",
    "lm_2 = lm_2.fit(X_train, y_train)\n",
    "\n",
    "y_train_pred = lm_2.predict(X_train)\n",
    "\n",
    "train_rmse = np.sqrt(metrics.mean_squared_error(y_train, y_train_pred))\n",
    "print('Training Root Mean Squared Error:' , train_rmse)"
   ]
  },
  {
   "cell_type": "code",
   "execution_count": 56,
   "metadata": {},
   "outputs": [
    {
     "name": "stdout",
     "output_type": "stream",
     "text": [
      "Testing Root Mean Squared Error: 212585.73185541172\n",
      "Training:  117785 vs. Testing:  212585\n"
     ]
    }
   ],
   "source": [
    "# use fitted model to predict on test data\n",
    "y_pred = lm_2.predict(X_test)\n",
    "\n",
    "test_rmse = np.sqrt(metrics.mean_squared_error(y_test, y_pred))\n",
    "\n",
    "print('Testing Root Mean Squared Error:' , test_rmse)\n",
    "print('Training: ', int(train_rmse), \"vs. Testing: \", int(test_rmse))"
   ]
  },
  {
   "cell_type": "markdown",
   "metadata": {},
   "source": [
    "##### Poly2 log, KBest83 features\n",
    "- KBEST Training Root Mean Squared Error: 171302\n",
    "- KBEST Testing Root Mean Squared Error: 170581\n",
    "\n",
    "did worse after zips added (28 features):\n",
    "- KBEST Training Root Mean Squared Error: 193908\n",
    "- KBEST Testing Root Mean Squared Error: 187826"
   ]
  },
  {
   "cell_type": "code",
   "execution_count": 57,
   "metadata": {},
   "outputs": [],
   "source": [
    "from sklearn.feature_selection import SelectKBest, f_regression,mutual_info_regression\n",
    "\n",
    "selector = SelectKBest(f_regression, k=200) # <----- number of features you want\n",
    "selector.fit(X_train, y_train)\n",
    "\n",
    "selected_columns = X_train.columns[selector.get_support()] #kept columns\n",
    "removed_columns = X_train.columns[~selector.get_support()] #removed columns\n",
    "#list(selected_columns)\n",
    "#len(removed_columns)"
   ]
  },
  {
   "cell_type": "code",
   "execution_count": 58,
   "metadata": {},
   "outputs": [
    {
     "data": {
      "text/plain": [
       "200"
      ]
     },
     "execution_count": 58,
     "metadata": {},
     "output_type": "execute_result"
    }
   ],
   "source": [
    "len(selected_columns)"
   ]
  },
  {
   "cell_type": "code",
   "execution_count": 59,
   "metadata": {},
   "outputs": [
    {
     "name": "stdout",
     "output_type": "stream",
     "text": [
      "KBEST Training Root Mean Squared Error: 151355.095360907\n",
      "KBEST Testing Root Mean Squared Error: 173094.47195141652\n"
     ]
    }
   ],
   "source": [
    "#instantiate a linear regression object and fit to train data\n",
    "lm_kbest = LinearRegression()\n",
    "lm_kbest.fit(X_train[selected_columns], y_train)\n",
    "\n",
    "# Training Root Mean Squared Error\n",
    "y_train_kbest = lm_kbest.predict(X_train[selected_columns])\n",
    "trainK_rmse = np.sqrt(metrics.mean_squared_error(y_train, y_train_kbest))\n",
    "print('KBEST Training Root Mean Squared Error:' , trainK_rmse)\n",
    "\n",
    "# Testing Root Mean Squared Error\n",
    "y_kbest = lm_kbest.predict(X_test[selected_columns])\n",
    "testK_rmse = np.sqrt(metrics.mean_squared_error(y_test, y_kbest))\n",
    "print('KBEST Testing Root Mean Squared Error:' , testK_rmse)"
   ]
  },
  {
   "cell_type": "markdown",
   "metadata": {},
   "source": [
    "##### RFE with Log\n",
    "- Training RMSE: 201,630\n",
    "- Testing RMSE: 197,283\n",
    "\n",
    "after zips\n",
    "- Training RMSE: 179,763\n",
    "- Testing RMSE: 170,627"
   ]
  },
  {
   "cell_type": "code",
   "execution_count": 60,
   "metadata": {},
   "outputs": [
    {
     "data": {
      "text/plain": [
       "(13832, 200)"
      ]
     },
     "execution_count": 60,
     "metadata": {},
     "output_type": "execute_result"
    }
   ],
   "source": [
    "X_train = X_train[selected_columns]\n",
    "X_train.shape"
   ]
  },
  {
   "cell_type": "code",
   "execution_count": 61,
   "metadata": {},
   "outputs": [
    {
     "name": "stdout",
     "output_type": "stream",
     "text": [
      "Fitting estimator with 200 features.\n",
      "Fitting estimator with 199 features.\n",
      "Fitting estimator with 198 features.\n",
      "Fitting estimator with 197 features.\n",
      "Fitting estimator with 196 features.\n",
      "Fitting estimator with 195 features.\n",
      "Fitting estimator with 194 features.\n",
      "Fitting estimator with 193 features.\n",
      "Fitting estimator with 192 features.\n",
      "Fitting estimator with 191 features.\n",
      "Fitting estimator with 190 features.\n",
      "Fitting estimator with 189 features.\n",
      "Fitting estimator with 188 features.\n",
      "Fitting estimator with 187 features.\n",
      "Fitting estimator with 186 features.\n",
      "Fitting estimator with 185 features.\n",
      "Fitting estimator with 184 features.\n",
      "Fitting estimator with 183 features.\n",
      "Fitting estimator with 182 features.\n",
      "Fitting estimator with 181 features.\n",
      "Fitting estimator with 180 features.\n",
      "Fitting estimator with 179 features.\n",
      "Fitting estimator with 178 features.\n",
      "Fitting estimator with 177 features.\n",
      "Fitting estimator with 176 features.\n",
      "Fitting estimator with 175 features.\n",
      "Fitting estimator with 174 features.\n",
      "Fitting estimator with 173 features.\n",
      "Fitting estimator with 172 features.\n",
      "Fitting estimator with 171 features.\n",
      "Fitting estimator with 170 features.\n",
      "Fitting estimator with 169 features.\n",
      "Fitting estimator with 168 features.\n",
      "Fitting estimator with 167 features.\n",
      "Fitting estimator with 166 features.\n",
      "Fitting estimator with 165 features.\n",
      "Fitting estimator with 164 features.\n",
      "Fitting estimator with 163 features.\n",
      "Fitting estimator with 162 features.\n",
      "Fitting estimator with 161 features.\n",
      "Fitting estimator with 160 features.\n",
      "Fitting estimator with 159 features.\n",
      "Fitting estimator with 158 features.\n",
      "Fitting estimator with 157 features.\n",
      "Fitting estimator with 156 features.\n",
      "Fitting estimator with 155 features.\n",
      "Fitting estimator with 154 features.\n",
      "Fitting estimator with 153 features.\n",
      "Fitting estimator with 152 features.\n",
      "Fitting estimator with 151 features.\n",
      "Fitting estimator with 150 features.\n",
      "Fitting estimator with 149 features.\n",
      "Fitting estimator with 148 features.\n",
      "Fitting estimator with 147 features.\n",
      "Fitting estimator with 146 features.\n",
      "Fitting estimator with 145 features.\n",
      "Fitting estimator with 144 features.\n",
      "Fitting estimator with 143 features.\n",
      "Fitting estimator with 142 features.\n",
      "Fitting estimator with 141 features.\n",
      "Fitting estimator with 140 features.\n",
      "Fitting estimator with 139 features.\n",
      "Fitting estimator with 138 features.\n",
      "Fitting estimator with 137 features.\n",
      "Fitting estimator with 136 features.\n",
      "Fitting estimator with 135 features.\n",
      "Fitting estimator with 134 features.\n",
      "Fitting estimator with 133 features.\n",
      "Fitting estimator with 132 features.\n",
      "Fitting estimator with 131 features.\n",
      "Fitting estimator with 130 features.\n",
      "Fitting estimator with 129 features.\n",
      "Fitting estimator with 128 features.\n",
      "Fitting estimator with 127 features.\n",
      "Fitting estimator with 126 features.\n",
      "Fitting estimator with 125 features.\n",
      "Fitting estimator with 124 features.\n",
      "Fitting estimator with 123 features.\n",
      "Fitting estimator with 122 features.\n",
      "Fitting estimator with 121 features.\n",
      "Fitting estimator with 120 features.\n",
      "Fitting estimator with 119 features.\n",
      "Fitting estimator with 118 features.\n",
      "Fitting estimator with 117 features.\n",
      "Fitting estimator with 116 features.\n",
      "Fitting estimator with 115 features.\n",
      "Fitting estimator with 114 features.\n",
      "Fitting estimator with 113 features.\n",
      "Fitting estimator with 112 features.\n",
      "Fitting estimator with 111 features.\n",
      "Fitting estimator with 110 features.\n",
      "Fitting estimator with 109 features.\n",
      "Fitting estimator with 108 features.\n",
      "Fitting estimator with 107 features.\n",
      "Fitting estimator with 106 features.\n",
      "Fitting estimator with 105 features.\n",
      "Fitting estimator with 104 features.\n",
      "Fitting estimator with 103 features.\n",
      "Fitting estimator with 102 features.\n",
      "Fitting estimator with 101 features.\n",
      "Fitting estimator with 100 features.\n",
      "Fitting estimator with 99 features.\n",
      "Fitting estimator with 98 features.\n",
      "Fitting estimator with 97 features.\n",
      "Fitting estimator with 96 features.\n",
      "Fitting estimator with 95 features.\n",
      "Fitting estimator with 94 features.\n",
      "Fitting estimator with 93 features.\n",
      "Fitting estimator with 92 features.\n",
      "Fitting estimator with 91 features.\n",
      "Fitting estimator with 90 features.\n",
      "Fitting estimator with 89 features.\n",
      "Fitting estimator with 88 features.\n",
      "Fitting estimator with 87 features.\n",
      "Fitting estimator with 86 features.\n",
      "Fitting estimator with 85 features.\n",
      "Fitting estimator with 84 features.\n",
      "Fitting estimator with 83 features.\n",
      "Fitting estimator with 82 features.\n",
      "Fitting estimator with 81 features.\n",
      "Fitting estimator with 80 features.\n",
      "Fitting estimator with 79 features.\n",
      "Fitting estimator with 78 features.\n",
      "Fitting estimator with 77 features.\n",
      "Fitting estimator with 76 features.\n",
      "Fitting estimator with 75 features.\n",
      "Fitting estimator with 74 features.\n",
      "Fitting estimator with 73 features.\n",
      "Fitting estimator with 72 features.\n",
      "Fitting estimator with 71 features.\n",
      "Fitting estimator with 70 features.\n",
      "Fitting estimator with 69 features.\n",
      "Fitting estimator with 68 features.\n",
      "Fitting estimator with 67 features.\n",
      "Fitting estimator with 66 features.\n",
      "Fitting estimator with 65 features.\n",
      "Fitting estimator with 64 features.\n",
      "Fitting estimator with 63 features.\n",
      "Fitting estimator with 62 features.\n",
      "Fitting estimator with 61 features.\n",
      "Fitting estimator with 60 features.\n",
      "Fitting estimator with 59 features.\n",
      "Fitting estimator with 58 features.\n",
      "Fitting estimator with 57 features.\n",
      "Fitting estimator with 56 features.\n",
      "Fitting estimator with 55 features.\n",
      "Fitting estimator with 54 features.\n",
      "Fitting estimator with 53 features.\n",
      "Fitting estimator with 52 features.\n",
      "Fitting estimator with 51 features.\n",
      "Fitting estimator with 50 features.\n",
      "Fitting estimator with 49 features.\n"
     ]
    },
    {
     "data": {
      "text/plain": [
       "RFECV(cv=5,\n",
       "      estimator=LinearRegression(copy_X=True, fit_intercept=True, n_jobs=None,\n",
       "                                 normalize=False),\n",
       "      min_features_to_select=1, n_jobs=-1, scoring='neg_mean_squared_error',\n",
       "      step=1, verbose=1)"
      ]
     },
     "execution_count": 61,
     "metadata": {},
     "output_type": "execute_result"
    }
   ],
   "source": [
    "from sklearn.feature_selection import RFECV\n",
    "\n",
    "ols = linear_model.LinearRegression()\n",
    "\n",
    "selector = RFECV(estimator=ols, step=1, cv=5, scoring='neg_mean_squared_error', n_jobs=-1, verbose=1)\n",
    "\n",
    "# Fit recursive feature eliminator \n",
    "selector.fit(X_train, y_train)"
   ]
  },
  {
   "cell_type": "code",
   "execution_count": 62,
   "metadata": {},
   "outputs": [],
   "source": [
    "selected_rfe = X_train.columns[selector.support_]\n",
    "removed_rfe = X_train.columns[~selector.support_]\n",
    "# list(selected_rfe)\n",
    "# list(removed_rfe)"
   ]
  },
  {
   "cell_type": "code",
   "execution_count": 63,
   "metadata": {
    "scrolled": true
   },
   "outputs": [
    {
     "name": "stdout",
     "output_type": "stream",
     "text": [
      "Training Root Mean Squared Error: 173868.45088472738\n",
      "Testing Root Mean Squared Error: 163009.4509010534\n"
     ]
    }
   ],
   "source": [
    "#instantiate a linear regression object and fit to train\n",
    "lm_rfe = LinearRegression()\n",
    "lm_rfe = lm_rfe.fit(X_train[selected_rfe], y_train)\n",
    "\n",
    "# Train\n",
    "y_rfe = lm_rfe.predict(X_train[selected_rfe])\n",
    "trainRFE_rmse = np.sqrt(metrics.mean_squared_error(y_train, y_rfe))\n",
    "print('Training Root Mean Squared Error:' , trainRFE_rmse)\n",
    "\n",
    "# Test\n",
    "y_pred_rfe = lm_rfe.predict(X_test[selected_rfe])\n",
    "testRFE_rmse = np.sqrt(metrics.mean_squared_error(y_test, y_pred_rfe))\n",
    "print('Testing Root Mean Squared Error:' , testRFE_rmse)"
   ]
  },
  {
   "cell_type": "code",
   "execution_count": 64,
   "metadata": {
    "scrolled": true
   },
   "outputs": [
    {
     "data": {
      "text/plain": [
       "['bedrooms',\n",
       " 'waterfront',\n",
       " 'grade',\n",
       " 'lat',\n",
       " 'bedrooms waterfront',\n",
       " 'bedrooms lat',\n",
       " 'bedrooms long',\n",
       " 'bedrooms floors_2.0',\n",
       " 'bedrooms basement_1',\n",
       " 'bedrooms nc2_1',\n",
       " 'bathrooms^2',\n",
       " 'bathrooms waterfront',\n",
       " 'bathrooms grade',\n",
       " 'bathrooms lat',\n",
       " 'bathrooms long',\n",
       " 'bathrooms floors_2.0',\n",
       " 'bathrooms basement_1',\n",
       " 'sqft_living long',\n",
       " 'waterfront^2',\n",
       " 'waterfront grade',\n",
       " 'waterfront lat',\n",
       " 'waterfront long',\n",
       " 'waterfront condition_3',\n",
       " 'waterfront floors_2.0',\n",
       " 'waterfront basement_1',\n",
       " 'waterfront nc2_1',\n",
       " 'view grade',\n",
       " 'view lat',\n",
       " 'view long',\n",
       " 'view condition_3',\n",
       " 'view floors_2.0',\n",
       " 'view basement_1',\n",
       " 'grade^2',\n",
       " 'grade lat',\n",
       " 'grade long',\n",
       " 'grade nc2_1',\n",
       " 'sqft_above lat',\n",
       " 'sqft_above long',\n",
       " 'sqft_above basement_1',\n",
       " 'sqft_basement lat',\n",
       " 'sqft_basement long',\n",
       " 'lat^2',\n",
       " 'lat long',\n",
       " 'lat sqft_living15',\n",
       " 'lat neighbors_compared',\n",
       " 'floors_2.0 basement_1',\n",
       " 'floors_2.0 nc2_1',\n",
       " '98004']"
      ]
     },
     "execution_count": 64,
     "metadata": {},
     "output_type": "execute_result"
    }
   ],
   "source": [
    "list(selected_rfe)"
   ]
  },
  {
   "cell_type": "markdown",
   "metadata": {},
   "source": [
    "## Poly 3\n",
    "performs worse than Poly2\n",
    "#### Poly3 KBest (85 features) \n",
    "- KBEST Training Root Mean Squared Error: 178266\n",
    "- KBEST Testing Root Mean Squared Error: 189853\n",
    "\n",
    "#### Poly3 KBest (85 features), RFE\n",
    "- Training Root Mean Squared Error: 185904\n",
    "- Testing Root Mean Squared Error: 180958"
   ]
  },
  {
   "cell_type": "code",
   "execution_count": 65,
   "metadata": {
    "scrolled": true
   },
   "outputs": [],
   "source": [
    "# poly_3 = PolynomialFeatures(degree=3, include_bias=False)\n",
    "# poly3_data = poly_3.fit_transform(df_features)\n",
    "# poly3_columns = poly_3.get_feature_names(df_features.columns)\n",
    "# df_poly3 = pd.DataFrame(poly3_data, columns=poly3_columns)\n",
    "# df_poly3.head()"
   ]
  },
  {
   "cell_type": "code",
   "execution_count": 66,
   "metadata": {
    "scrolled": true
   },
   "outputs": [],
   "source": [
    "# # Concat dfs together to test\n",
    "# df_poly3 = pd.concat([df_poly3, zip_dummies], axis=1)\n",
    "# df_poly3.head()"
   ]
  },
  {
   "cell_type": "markdown",
   "metadata": {},
   "source": [
    "##### Poly3 KBest"
   ]
  },
  {
   "cell_type": "code",
   "execution_count": 67,
   "metadata": {},
   "outputs": [],
   "source": [
    "# from sklearn.feature_selection import SelectKBest, f_regression,mutual_info_regression\n",
    "\n",
    "# selector = SelectKBest(f_regression, k=85) # <----- f_regression and number of features you want\n",
    "# selector.fit(X_train, y_train)\n",
    "\n",
    "# selected_columns = X_train.columns[selector.get_support()] #kept columns\n",
    "# removed_columns = X_train.columns[~selector.get_support()] #removed columns\n",
    "# #list(selected_columns)\n",
    "# # list(removed_columns)"
   ]
  },
  {
   "cell_type": "code",
   "execution_count": 68,
   "metadata": {},
   "outputs": [],
   "source": [
    "# #instantiate a linear regression object and fit to train data\n",
    "# lm_kbest = LinearRegression()\n",
    "# lm_kbest.fit(X_train[selected_columns], y_train)\n",
    "\n",
    "# # Training Root Mean Squared Error\n",
    "# y_train_kbest = lm_kbest.predict(X_train[selected_columns])\n",
    "# trainK_rmse = np.sqrt(metrics.mean_squared_error(y_train, y_train_kbest))\n",
    "# print('KBEST Training Root Mean Squared Error:' , trainK_rmse)\n",
    "\n",
    "# # Testing Root Mean Squared Error\n",
    "# y_kbest = lm_kbest.predict(X_test[selected_columns])\n",
    "# testK_rmse = np.sqrt(metrics.mean_squared_error(y_test, y_kbest))\n",
    "# print('KBEST Testing Root Mean Squared Error:' , testK_rmse)"
   ]
  },
  {
   "cell_type": "markdown",
   "metadata": {},
   "source": [
    "##### Poly3 RFE"
   ]
  },
  {
   "cell_type": "code",
   "execution_count": 69,
   "metadata": {},
   "outputs": [],
   "source": [
    "# X_train = X_train[selected_columns]\n",
    "# X_train.shape"
   ]
  },
  {
   "cell_type": "code",
   "execution_count": 70,
   "metadata": {},
   "outputs": [],
   "source": [
    "# from sklearn.feature_selection import RFECV\n",
    "# ols = linear_model.LinearRegression()\n",
    "\n",
    "# selector = RFECV(estimator=ols, step=1, cv=5, scoring='neg_mean_squared_error', n_jobs=-1, verbose=1)\n",
    "\n",
    "# # Fit recursive feature eliminator \n",
    "# selector.fit(X_train, y_train)"
   ]
  },
  {
   "cell_type": "code",
   "execution_count": 71,
   "metadata": {},
   "outputs": [],
   "source": [
    "# selected_rfe = X_train.columns[selector.support_]\n",
    "# removed_rfe = X_train.columns[~selector.support_]\n",
    "# # list(selected_rfe)\n",
    "# # list(removed_rfe)"
   ]
  },
  {
   "cell_type": "code",
   "execution_count": 72,
   "metadata": {},
   "outputs": [],
   "source": [
    "# #instantiate a linear regression object and fit to train\n",
    "# lm_rfe = LinearRegression()\n",
    "# lm_rfe = lm_rfe.fit(X_train[selected_rfe], y_train)\n",
    "\n",
    "# # Train\n",
    "# y_rfe = lm_rfe.predict(X_train[selected_rfe])\n",
    "# trainRFE_rmse = np.sqrt(metrics.mean_squared_error(y_train, y_rfe))\n",
    "# print('Training Root Mean Squared Error:' , trainRFE_rmse)\n",
    "\n",
    "# # Test\n",
    "# y_pred_rfe = lm_rfe.predict(X_test[selected_rfe])\n",
    "# testRFE_rmse = np.sqrt(metrics.mean_squared_error(y_test, y_pred_rfe))\n",
    "# print('Testing Root Mean Squared Error:' , testRFE_rmse)"
   ]
  },
  {
   "cell_type": "code",
   "execution_count": 73,
   "metadata": {},
   "outputs": [
    {
     "data": {
      "text/plain": [
       "48"
      ]
     },
     "execution_count": 73,
     "metadata": {},
     "output_type": "execute_result"
    }
   ],
   "source": [
    "len(selected_rfe)"
   ]
  },
  {
   "cell_type": "markdown",
   "metadata": {},
   "source": [
    "# Step 6: Utilize some different feature selection techniques before or in conjuction with fitting your models."
   ]
  },
  {
   "cell_type": "markdown",
   "metadata": {},
   "source": [
    "# Step 7: Evaluate your different models in order to determine the best model overall."
   ]
  },
  {
   "cell_type": "markdown",
   "metadata": {},
   "source": [
    "# Step 8:  Refit your best model to the entire dataset."
   ]
  },
  {
   "cell_type": "code",
   "execution_count": 74,
   "metadata": {},
   "outputs": [],
   "source": [
    "#instantiate a linear regression object\n",
    "lm_final = LinearRegression()\n",
    "\n",
    "#fit the linear regression to the data\n",
    "lm_final = lm_final.fit(df_poly2[selected_columns], target)"
   ]
  },
  {
   "cell_type": "code",
   "execution_count": 75,
   "metadata": {},
   "outputs": [
    {
     "data": {
      "text/plain": [
       "['bedrooms',\n",
       " 'bathrooms',\n",
       " 'sqft_living',\n",
       " 'waterfront',\n",
       " 'view',\n",
       " 'grade',\n",
       " 'sqft_above',\n",
       " 'sqft_basement',\n",
       " 'lat',\n",
       " 'sqft_living15',\n",
       " 'floors_x_sqft_living',\n",
       " 'neighbors_compared',\n",
       " 'bedrooms^2',\n",
       " 'bedrooms bathrooms',\n",
       " 'bedrooms sqft_living',\n",
       " 'bedrooms waterfront',\n",
       " 'bedrooms view',\n",
       " 'bedrooms grade',\n",
       " 'bedrooms sqft_above',\n",
       " 'bedrooms sqft_basement',\n",
       " 'bedrooms yr_built',\n",
       " 'bedrooms lat',\n",
       " 'bedrooms long',\n",
       " 'bedrooms sqft_living15',\n",
       " 'bedrooms floors_x_sqft_living',\n",
       " 'bedrooms floors_2.0',\n",
       " 'bedrooms basement_1',\n",
       " 'bedrooms neighbors_compared',\n",
       " 'bedrooms nc2_1',\n",
       " 'bathrooms^2',\n",
       " 'bathrooms sqft_living',\n",
       " 'bathrooms sqft_lot',\n",
       " 'bathrooms waterfront',\n",
       " 'bathrooms view',\n",
       " 'bathrooms grade',\n",
       " 'bathrooms sqft_above',\n",
       " 'bathrooms sqft_basement',\n",
       " 'bathrooms yr_built',\n",
       " 'bathrooms lat',\n",
       " 'bathrooms long',\n",
       " 'bathrooms sqft_living15',\n",
       " 'bathrooms sqft_lot15',\n",
       " 'bathrooms month_sold',\n",
       " 'bathrooms floors_x_sqft_living',\n",
       " 'bathrooms floors_2.0',\n",
       " 'bathrooms age',\n",
       " 'bathrooms basement_1',\n",
       " 'bathrooms neighbors_compared',\n",
       " 'bathrooms nc2_1',\n",
       " 'sqft_living^2',\n",
       " 'sqft_living sqft_lot',\n",
       " 'sqft_living waterfront',\n",
       " 'sqft_living view',\n",
       " 'sqft_living grade',\n",
       " 'sqft_living sqft_above',\n",
       " 'sqft_living sqft_basement',\n",
       " 'sqft_living yr_built',\n",
       " 'sqft_living lat',\n",
       " 'sqft_living long',\n",
       " 'sqft_living sqft_living15',\n",
       " 'sqft_living sqft_lot15',\n",
       " 'sqft_living month_sold',\n",
       " 'sqft_living floors_x_sqft_living',\n",
       " 'sqft_living condition_3',\n",
       " 'sqft_living floors_2.0',\n",
       " 'sqft_living age',\n",
       " 'sqft_living basement_1',\n",
       " 'sqft_living neighbors_compared',\n",
       " 'sqft_living nc2_1',\n",
       " 'sqft_living last_ren2',\n",
       " 'sqft_lot waterfront',\n",
       " 'sqft_lot view',\n",
       " 'sqft_lot sqft_above',\n",
       " 'sqft_lot sqft_basement',\n",
       " 'sqft_lot sqft_living15',\n",
       " 'sqft_lot floors_x_sqft_living',\n",
       " 'sqft_lot floors_2.0',\n",
       " 'sqft_lot neighbors_compared',\n",
       " 'waterfront^2',\n",
       " 'waterfront view',\n",
       " 'waterfront grade',\n",
       " 'waterfront sqft_above',\n",
       " 'waterfront sqft_basement',\n",
       " 'waterfront yr_built',\n",
       " 'waterfront lat',\n",
       " 'waterfront long',\n",
       " 'waterfront sqft_living15',\n",
       " 'waterfront sqft_lot15',\n",
       " 'waterfront month_sold',\n",
       " 'waterfront floors_x_sqft_living',\n",
       " 'waterfront condition_3',\n",
       " 'waterfront floors_2.0',\n",
       " 'waterfront basement_1',\n",
       " 'waterfront neighbors_compared',\n",
       " 'waterfront nc2_1',\n",
       " 'view^2',\n",
       " 'view grade',\n",
       " 'view sqft_above',\n",
       " 'view sqft_basement',\n",
       " 'view yr_built',\n",
       " 'view lat',\n",
       " 'view long',\n",
       " 'view sqft_living15',\n",
       " 'view sqft_lot15',\n",
       " 'view month_sold',\n",
       " 'view floors_x_sqft_living',\n",
       " 'view condition_3',\n",
       " 'view floors_2.0',\n",
       " 'view age',\n",
       " 'view basement_1',\n",
       " 'view neighbors_compared',\n",
       " 'view nc2_1',\n",
       " 'view last_ren2',\n",
       " 'grade^2',\n",
       " 'grade sqft_above',\n",
       " 'grade sqft_basement',\n",
       " 'grade yr_built',\n",
       " 'grade lat',\n",
       " 'grade long',\n",
       " 'grade sqft_living15',\n",
       " 'grade floors_x_sqft_living',\n",
       " 'grade floors_2.0',\n",
       " 'grade basement_1',\n",
       " 'grade neighbors_compared',\n",
       " 'grade nc2_1',\n",
       " 'sqft_above^2',\n",
       " 'sqft_above sqft_basement',\n",
       " 'sqft_above yr_built',\n",
       " 'sqft_above lat',\n",
       " 'sqft_above long',\n",
       " 'sqft_above sqft_living15',\n",
       " 'sqft_above sqft_lot15',\n",
       " 'sqft_above month_sold',\n",
       " 'sqft_above floors_x_sqft_living',\n",
       " 'sqft_above condition_3',\n",
       " 'sqft_above floors_2.0',\n",
       " 'sqft_above age',\n",
       " 'sqft_above basement_1',\n",
       " 'sqft_above neighbors_compared',\n",
       " 'sqft_above nc2_1',\n",
       " 'sqft_above last_ren2',\n",
       " 'sqft_basement^2',\n",
       " 'sqft_basement yr_built',\n",
       " 'sqft_basement lat',\n",
       " 'sqft_basement long',\n",
       " 'sqft_basement sqft_living15',\n",
       " 'sqft_basement sqft_lot15',\n",
       " 'sqft_basement month_sold',\n",
       " 'sqft_basement floors_x_sqft_living',\n",
       " 'sqft_basement floors_2.0',\n",
       " 'sqft_basement age',\n",
       " 'sqft_basement basement_1',\n",
       " 'sqft_basement neighbors_compared',\n",
       " 'sqft_basement nc2_1',\n",
       " 'yr_built sqft_living15',\n",
       " 'yr_built floors_x_sqft_living',\n",
       " 'yr_built neighbors_compared',\n",
       " 'yr_renovated floors_x_sqft_living',\n",
       " 'lat^2',\n",
       " 'lat long',\n",
       " 'lat sqft_living15',\n",
       " 'lat floors_x_sqft_living',\n",
       " 'lat floors_2.0',\n",
       " 'lat neighbors_compared',\n",
       " 'long sqft_living15',\n",
       " 'long floors_x_sqft_living',\n",
       " 'long neighbors_compared',\n",
       " 'sqft_living15^2',\n",
       " 'sqft_living15 sqft_lot15',\n",
       " 'sqft_living15 month_sold',\n",
       " 'sqft_living15 floors_x_sqft_living',\n",
       " 'sqft_living15 floors_2.0',\n",
       " 'sqft_living15 age',\n",
       " 'sqft_living15 basement_1',\n",
       " 'sqft_living15 neighbors_compared',\n",
       " 'sqft_living15 nc2_1',\n",
       " 'sqft_lot15 floors_x_sqft_living',\n",
       " 'sqft_lot15 floors_2.0',\n",
       " 'sqft_lot15 neighbors_compared',\n",
       " 'month_sold floors_x_sqft_living',\n",
       " 'month_sold neighbors_compared',\n",
       " 'floors_x_sqft_living^2',\n",
       " 'floors_x_sqft_living condition_3',\n",
       " 'floors_x_sqft_living floors_2.0',\n",
       " 'floors_x_sqft_living age',\n",
       " 'floors_x_sqft_living basement_1',\n",
       " 'floors_x_sqft_living neighbors_compared',\n",
       " 'floors_x_sqft_living nc2_1',\n",
       " 'floors_x_sqft_living last_ren2',\n",
       " 'floors_x_sqft_living renovated_1',\n",
       " 'condition_3 neighbors_compared',\n",
       " 'floors_2.0 basement_1',\n",
       " 'floors_2.0 neighbors_compared',\n",
       " 'floors_2.0 nc2_1',\n",
       " 'age neighbors_compared',\n",
       " 'basement_1 neighbors_compared',\n",
       " 'neighbors_compared^2',\n",
       " 'neighbors_compared nc2_1',\n",
       " 'neighbors_compared last_ren2',\n",
       " '98004']"
      ]
     },
     "execution_count": 75,
     "metadata": {},
     "output_type": "execute_result"
    }
   ],
   "source": [
    "list(selected_columns)"
   ]
  },
  {
   "cell_type": "markdown",
   "metadata": {},
   "source": [
    "## Checking model attributes to copy to holdout notebook"
   ]
  },
  {
   "cell_type": "code",
   "execution_count": 76,
   "metadata": {},
   "outputs": [
    {
     "data": {
      "text/plain": [
       "['bedrooms',\n",
       " 'bathrooms',\n",
       " 'sqft_living',\n",
       " 'waterfront',\n",
       " 'view',\n",
       " 'grade',\n",
       " 'sqft_above',\n",
       " 'sqft_basement',\n",
       " 'lat',\n",
       " 'sqft_living15',\n",
       " 'floors_x_sqft_living',\n",
       " 'neighbors_compared',\n",
       " 'bedrooms^2',\n",
       " 'bedrooms bathrooms',\n",
       " 'bedrooms sqft_living',\n",
       " 'bedrooms waterfront',\n",
       " 'bedrooms view',\n",
       " 'bedrooms grade',\n",
       " 'bedrooms sqft_above',\n",
       " 'bedrooms sqft_basement',\n",
       " 'bedrooms yr_built',\n",
       " 'bedrooms lat',\n",
       " 'bedrooms long',\n",
       " 'bedrooms sqft_living15',\n",
       " 'bedrooms floors_x_sqft_living',\n",
       " 'bedrooms floors_2.0',\n",
       " 'bedrooms basement_1',\n",
       " 'bedrooms neighbors_compared',\n",
       " 'bedrooms nc2_1',\n",
       " 'bathrooms^2',\n",
       " 'bathrooms sqft_living',\n",
       " 'bathrooms sqft_lot',\n",
       " 'bathrooms waterfront',\n",
       " 'bathrooms view',\n",
       " 'bathrooms grade',\n",
       " 'bathrooms sqft_above',\n",
       " 'bathrooms sqft_basement',\n",
       " 'bathrooms yr_built',\n",
       " 'bathrooms lat',\n",
       " 'bathrooms long',\n",
       " 'bathrooms sqft_living15',\n",
       " 'bathrooms sqft_lot15',\n",
       " 'bathrooms month_sold',\n",
       " 'bathrooms floors_x_sqft_living',\n",
       " 'bathrooms floors_2.0',\n",
       " 'bathrooms age',\n",
       " 'bathrooms basement_1',\n",
       " 'bathrooms neighbors_compared',\n",
       " 'bathrooms nc2_1',\n",
       " 'sqft_living^2',\n",
       " 'sqft_living sqft_lot',\n",
       " 'sqft_living waterfront',\n",
       " 'sqft_living view',\n",
       " 'sqft_living grade',\n",
       " 'sqft_living sqft_above',\n",
       " 'sqft_living sqft_basement',\n",
       " 'sqft_living yr_built',\n",
       " 'sqft_living lat',\n",
       " 'sqft_living long',\n",
       " 'sqft_living sqft_living15',\n",
       " 'sqft_living sqft_lot15',\n",
       " 'sqft_living month_sold',\n",
       " 'sqft_living floors_x_sqft_living',\n",
       " 'sqft_living condition_3',\n",
       " 'sqft_living floors_2.0',\n",
       " 'sqft_living age',\n",
       " 'sqft_living basement_1',\n",
       " 'sqft_living neighbors_compared',\n",
       " 'sqft_living nc2_1',\n",
       " 'sqft_living last_ren2',\n",
       " 'sqft_lot waterfront',\n",
       " 'sqft_lot view',\n",
       " 'sqft_lot sqft_above',\n",
       " 'sqft_lot sqft_basement',\n",
       " 'sqft_lot sqft_living15',\n",
       " 'sqft_lot floors_x_sqft_living',\n",
       " 'sqft_lot floors_2.0',\n",
       " 'sqft_lot neighbors_compared',\n",
       " 'waterfront^2',\n",
       " 'waterfront view',\n",
       " 'waterfront grade',\n",
       " 'waterfront sqft_above',\n",
       " 'waterfront sqft_basement',\n",
       " 'waterfront yr_built',\n",
       " 'waterfront lat',\n",
       " 'waterfront long',\n",
       " 'waterfront sqft_living15',\n",
       " 'waterfront sqft_lot15',\n",
       " 'waterfront month_sold',\n",
       " 'waterfront floors_x_sqft_living',\n",
       " 'waterfront condition_3',\n",
       " 'waterfront floors_2.0',\n",
       " 'waterfront basement_1',\n",
       " 'waterfront neighbors_compared',\n",
       " 'waterfront nc2_1',\n",
       " 'view^2',\n",
       " 'view grade',\n",
       " 'view sqft_above',\n",
       " 'view sqft_basement',\n",
       " 'view yr_built',\n",
       " 'view lat',\n",
       " 'view long',\n",
       " 'view sqft_living15',\n",
       " 'view sqft_lot15',\n",
       " 'view month_sold',\n",
       " 'view floors_x_sqft_living',\n",
       " 'view condition_3',\n",
       " 'view floors_2.0',\n",
       " 'view age',\n",
       " 'view basement_1',\n",
       " 'view neighbors_compared',\n",
       " 'view nc2_1',\n",
       " 'view last_ren2',\n",
       " 'grade^2',\n",
       " 'grade sqft_above',\n",
       " 'grade sqft_basement',\n",
       " 'grade yr_built',\n",
       " 'grade lat',\n",
       " 'grade long',\n",
       " 'grade sqft_living15',\n",
       " 'grade floors_x_sqft_living',\n",
       " 'grade floors_2.0',\n",
       " 'grade basement_1',\n",
       " 'grade neighbors_compared',\n",
       " 'grade nc2_1',\n",
       " 'sqft_above^2',\n",
       " 'sqft_above sqft_basement',\n",
       " 'sqft_above yr_built',\n",
       " 'sqft_above lat',\n",
       " 'sqft_above long',\n",
       " 'sqft_above sqft_living15',\n",
       " 'sqft_above sqft_lot15',\n",
       " 'sqft_above month_sold',\n",
       " 'sqft_above floors_x_sqft_living',\n",
       " 'sqft_above condition_3',\n",
       " 'sqft_above floors_2.0',\n",
       " 'sqft_above age',\n",
       " 'sqft_above basement_1',\n",
       " 'sqft_above neighbors_compared',\n",
       " 'sqft_above nc2_1',\n",
       " 'sqft_above last_ren2',\n",
       " 'sqft_basement^2',\n",
       " 'sqft_basement yr_built',\n",
       " 'sqft_basement lat',\n",
       " 'sqft_basement long',\n",
       " 'sqft_basement sqft_living15',\n",
       " 'sqft_basement sqft_lot15',\n",
       " 'sqft_basement month_sold',\n",
       " 'sqft_basement floors_x_sqft_living',\n",
       " 'sqft_basement floors_2.0',\n",
       " 'sqft_basement age',\n",
       " 'sqft_basement basement_1',\n",
       " 'sqft_basement neighbors_compared',\n",
       " 'sqft_basement nc2_1',\n",
       " 'yr_built sqft_living15',\n",
       " 'yr_built floors_x_sqft_living',\n",
       " 'yr_built neighbors_compared',\n",
       " 'yr_renovated floors_x_sqft_living',\n",
       " 'lat^2',\n",
       " 'lat long',\n",
       " 'lat sqft_living15',\n",
       " 'lat floors_x_sqft_living',\n",
       " 'lat floors_2.0',\n",
       " 'lat neighbors_compared',\n",
       " 'long sqft_living15',\n",
       " 'long floors_x_sqft_living',\n",
       " 'long neighbors_compared',\n",
       " 'sqft_living15^2',\n",
       " 'sqft_living15 sqft_lot15',\n",
       " 'sqft_living15 month_sold',\n",
       " 'sqft_living15 floors_x_sqft_living',\n",
       " 'sqft_living15 floors_2.0',\n",
       " 'sqft_living15 age',\n",
       " 'sqft_living15 basement_1',\n",
       " 'sqft_living15 neighbors_compared',\n",
       " 'sqft_living15 nc2_1',\n",
       " 'sqft_lot15 floors_x_sqft_living',\n",
       " 'sqft_lot15 floors_2.0',\n",
       " 'sqft_lot15 neighbors_compared',\n",
       " 'month_sold floors_x_sqft_living',\n",
       " 'month_sold neighbors_compared',\n",
       " 'floors_x_sqft_living^2',\n",
       " 'floors_x_sqft_living condition_3',\n",
       " 'floors_x_sqft_living floors_2.0',\n",
       " 'floors_x_sqft_living age',\n",
       " 'floors_x_sqft_living basement_1',\n",
       " 'floors_x_sqft_living neighbors_compared',\n",
       " 'floors_x_sqft_living nc2_1',\n",
       " 'floors_x_sqft_living last_ren2',\n",
       " 'floors_x_sqft_living renovated_1',\n",
       " 'condition_3 neighbors_compared',\n",
       " 'floors_2.0 basement_1',\n",
       " 'floors_2.0 neighbors_compared',\n",
       " 'floors_2.0 nc2_1',\n",
       " 'age neighbors_compared',\n",
       " 'basement_1 neighbors_compared',\n",
       " 'neighbors_compared^2',\n",
       " 'neighbors_compared nc2_1',\n",
       " 'neighbors_compared last_ren2',\n",
       " '98004']"
      ]
     },
     "execution_count": 76,
     "metadata": {},
     "output_type": "execute_result"
    }
   ],
   "source": [
    "list(df_poly2[selected_columns].columns)"
   ]
  },
  {
   "cell_type": "code",
   "execution_count": 77,
   "metadata": {},
   "outputs": [
    {
     "data": {
      "text/plain": [
       "200"
      ]
     },
     "execution_count": 77,
     "metadata": {},
     "output_type": "execute_result"
    }
   ],
   "source": [
    "len(lm_final.coef_)"
   ]
  },
  {
   "cell_type": "markdown",
   "metadata": {},
   "source": [
    "# Step 9: Save your final model using pickle.\n",
    "\n",
    "https://machinelearningmastery.com/save-load-machine-learning-models-python-scikit-learn/"
   ]
  },
  {
   "cell_type": "code",
   "execution_count": null,
   "metadata": {},
   "outputs": [],
   "source": []
  },
  {
   "cell_type": "code",
   "execution_count": 78,
   "metadata": {},
   "outputs": [],
   "source": [
    "import pickle\n",
    "\n",
    "#Model\n",
    "pickle_out = open(\"poly2_modelx2.pickle\",\"wb\")\n",
    "pickle.dump(lm_final, pickle_out)\n",
    "pickle_out.close()"
   ]
  },
  {
   "cell_type": "code",
   "execution_count": null,
   "metadata": {},
   "outputs": [],
   "source": []
  },
  {
   "cell_type": "code",
   "execution_count": null,
   "metadata": {},
   "outputs": [],
   "source": []
  },
  {
   "cell_type": "code",
   "execution_count": null,
   "metadata": {},
   "outputs": [],
   "source": []
  },
  {
   "cell_type": "code",
   "execution_count": null,
   "metadata": {},
   "outputs": [],
   "source": []
  }
 ],
 "metadata": {
  "kernelspec": {
   "display_name": "Python 3",
   "language": "python",
   "name": "python3"
  },
  "language_info": {
   "codemirror_mode": {
    "name": "ipython",
    "version": 3
   },
   "file_extension": ".py",
   "mimetype": "text/x-python",
   "name": "python",
   "nbconvert_exporter": "python",
   "pygments_lexer": "ipython3",
   "version": "3.6.9"
  }
 },
 "nbformat": 4,
 "nbformat_minor": 2
}
